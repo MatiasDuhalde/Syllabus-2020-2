{
 "cells": [
  {
   "cell_type": "markdown",
   "metadata": {},
   "source": [
    "# Control 3\n",
    "\n",
    "\n",
    "### Nombre estudiante: Matías Duhalde\n",
    "\n",
    "*Nota para ayudante: Acá se explica lo mismo, y se colocan los mismos fragmentos de código que en el README, por lo que no es necesario revisar este último muy detalladamente. El README se incluyó por formalidad y para cumplir con lo del enunciado.*"
   ]
  },
  {
   "cell_type": "markdown",
   "metadata": {},
   "source": [
    "## 1. Manejo de Datos\n",
    "\n",
    "Para importar los datos desde el archivo `Resultados_plebiscito.csv` a la base de datos en SQLite3, se usó la CLI directamente. Los comandos utilizados fueron los siguientes:\n",
    "```SQL\n",
    ".open municipios.db\n",
    "\n",
    "CREATE TABLE Resultados_Plebiscito(\n",
    "    cod_com INTEGER PRIMARY KEY,\n",
    "    apruebo INTEGER,\n",
    "    rechazo INTEGER,\n",
    "    blancos INTEGER,\n",
    "    nulos INTEGER,\n",
    "    FOREIGN KEY(cod_com) REFERENCES Comuna(id)\n",
    ");\n",
    "\n",
    ".separator ,\n",
    "\n",
    ".import Resultados_Pleb.csv Resultados_Plebiscito\n",
    "```\n",
    "\n",
    "De esta manera, se agregan los datos del csv a una relación llamada `Resultados_Plebiscito`, con el esquema anterior."
   ]
  },
  {
   "cell_type": "markdown",
   "metadata": {},
   "source": [
    "## 2.1 Correlación entre habitantes y presupuesto"
   ]
  },
  {
   "cell_type": "markdown",
   "metadata": {},
   "source": [
    "#### Importar librerías"
   ]
  },
  {
   "cell_type": "code",
   "execution_count": 1,
   "metadata": {},
   "outputs": [],
   "source": [
    "import numpy as np\n",
    "import pandas as pd\n",
    "import matplotlib.pyplot as plt\n",
    "import sqlite3"
   ]
  },
  {
   "cell_type": "markdown",
   "metadata": {},
   "source": [
    "#### Obtener información de base de datos"
   ]
  },
  {
   "cell_type": "code",
   "execution_count": 2,
   "metadata": {
    "scrolled": true
   },
   "outputs": [
    {
     "data": {
      "text/html": [
       "<div>\n",
       "<style scoped>\n",
       "    .dataframe tbody tr th:only-of-type {\n",
       "        vertical-align: middle;\n",
       "    }\n",
       "\n",
       "    .dataframe tbody tr th {\n",
       "        vertical-align: top;\n",
       "    }\n",
       "\n",
       "    .dataframe thead th {\n",
       "        text-align: right;\n",
       "    }\n",
       "</style>\n",
       "<table border=\"1\" class=\"dataframe\">\n",
       "  <thead>\n",
       "    <tr style=\"text-align: right;\">\n",
       "      <th></th>\n",
       "      <th>id_comuna</th>\n",
       "      <th>nombre</th>\n",
       "      <th>presupuesto</th>\n",
       "      <th>habitantes</th>\n",
       "    </tr>\n",
       "  </thead>\n",
       "  <tbody>\n",
       "    <tr>\n",
       "      <th>0</th>\n",
       "      <td>1101</td>\n",
       "      <td>IQUIQUE</td>\n",
       "      <td>59072234</td>\n",
       "      <td>191468</td>\n",
       "    </tr>\n",
       "    <tr>\n",
       "      <th>1</th>\n",
       "      <td>1107</td>\n",
       "      <td>ALTO HOSPICIO</td>\n",
       "      <td>13984404</td>\n",
       "      <td>108375</td>\n",
       "    </tr>\n",
       "    <tr>\n",
       "      <th>2</th>\n",
       "      <td>1401</td>\n",
       "      <td>POZO ALMONTE</td>\n",
       "      <td>7613962</td>\n",
       "      <td>15711</td>\n",
       "    </tr>\n",
       "    <tr>\n",
       "      <th>3</th>\n",
       "      <td>1402</td>\n",
       "      <td>CAMIÑA</td>\n",
       "      <td>1584008</td>\n",
       "      <td>1250</td>\n",
       "    </tr>\n",
       "    <tr>\n",
       "      <th>4</th>\n",
       "      <td>1403</td>\n",
       "      <td>COLCHANE</td>\n",
       "      <td>2500000</td>\n",
       "      <td>1728</td>\n",
       "    </tr>\n",
       "    <tr>\n",
       "      <th>...</th>\n",
       "      <td>...</td>\n",
       "      <td>...</td>\n",
       "      <td>...</td>\n",
       "      <td>...</td>\n",
       "    </tr>\n",
       "    <tr>\n",
       "      <th>312</th>\n",
       "      <td>14204</td>\n",
       "      <td>RÍO BUENO</td>\n",
       "      <td>5771272</td>\n",
       "      <td>31372</td>\n",
       "    </tr>\n",
       "    <tr>\n",
       "      <th>313</th>\n",
       "      <td>15101</td>\n",
       "      <td>ARICA</td>\n",
       "      <td>37808221</td>\n",
       "      <td>221364</td>\n",
       "    </tr>\n",
       "    <tr>\n",
       "      <th>314</th>\n",
       "      <td>15102</td>\n",
       "      <td>CAMARONES</td>\n",
       "      <td>2478356</td>\n",
       "      <td>1255</td>\n",
       "    </tr>\n",
       "    <tr>\n",
       "      <th>315</th>\n",
       "      <td>15201</td>\n",
       "      <td>PUTRE</td>\n",
       "      <td>2664568</td>\n",
       "      <td>2765</td>\n",
       "    </tr>\n",
       "    <tr>\n",
       "      <th>316</th>\n",
       "      <td>15202</td>\n",
       "      <td>GENERAL LAGOS</td>\n",
       "      <td>1438262</td>\n",
       "      <td>684</td>\n",
       "    </tr>\n",
       "  </tbody>\n",
       "</table>\n",
       "<p>317 rows × 4 columns</p>\n",
       "</div>"
      ],
      "text/plain": [
       "     id_comuna         nombre  presupuesto  habitantes\n",
       "0         1101        IQUIQUE     59072234      191468\n",
       "1         1107  ALTO HOSPICIO     13984404      108375\n",
       "2         1401   POZO ALMONTE      7613962       15711\n",
       "3         1402         CAMIÑA      1584008        1250\n",
       "4         1403       COLCHANE      2500000        1728\n",
       "..         ...            ...          ...         ...\n",
       "312      14204      RÍO BUENO      5771272       31372\n",
       "313      15101          ARICA     37808221      221364\n",
       "314      15102      CAMARONES      2478356        1255\n",
       "315      15201          PUTRE      2664568        2765\n",
       "316      15202  GENERAL LAGOS      1438262         684\n",
       "\n",
       "[317 rows x 4 columns]"
      ]
     },
     "execution_count": 2,
     "metadata": {},
     "output_type": "execute_result"
    }
   ],
   "source": [
    "# Connect to database\n",
    "conn = sqlite3.connect('municipios.db')\n",
    "conn.text_factory = lambda x: str(x, \"latin-1\")\n",
    "\n",
    "# Create cursor\n",
    "c = conn.cursor()\n",
    "\n",
    "# Obtain data\n",
    "query = '''\n",
    "SELECT presupuesto.id_comuna, presupuesto.municipio, presupuesto.plata, poblacion.habitantes FROM presupuesto\n",
    "INNER JOIN poblacion\n",
    "ON presupuesto.id_comuna = poblacion.cod\n",
    "'''\n",
    "result = c.execute(query)\n",
    "\n",
    "hab_pres_frame = pd.DataFrame(result)\n",
    "\n",
    "conn.close()\n",
    "\n",
    "hab_pres_frame.columns = [\"id_comuna\", \"nombre\", \"presupuesto\", \"habitantes\"]\n",
    "hab_pres_frame"
   ]
  },
  {
   "cell_type": "markdown",
   "metadata": {},
   "source": [
    "#### Graficar correlación"
   ]
  },
  {
   "cell_type": "code",
   "execution_count": 3,
   "metadata": {
    "scrolled": true
   },
   "outputs": [
    {
     "data": {
      "image/png": "[encoded data removed]",
      "text/plain": [
       "<Figure size 432x288 with 1 Axes>"
      ]
     },
     "metadata": {
      "needs_background": "light"
     },
     "output_type": "display_data"
    },
    {
     "data": {
      "text/html": [
       "<div>\n",
       "<style scoped>\n",
       "    .dataframe tbody tr th:only-of-type {\n",
       "        vertical-align: middle;\n",
       "    }\n",
       "\n",
       "    .dataframe tbody tr th {\n",
       "        vertical-align: top;\n",
       "    }\n",
       "\n",
       "    .dataframe thead th {\n",
       "        text-align: right;\n",
       "    }\n",
       "</style>\n",
       "<table border=\"1\" class=\"dataframe\">\n",
       "  <thead>\n",
       "    <tr style=\"text-align: right;\">\n",
       "      <th></th>\n",
       "      <th>id_comuna</th>\n",
       "      <th>presupuesto</th>\n",
       "      <th>habitantes</th>\n",
       "    </tr>\n",
       "  </thead>\n",
       "  <tbody>\n",
       "    <tr>\n",
       "      <th>id_comuna</th>\n",
       "      <td>1.000000</td>\n",
       "      <td>0.195501</td>\n",
       "      <td>0.200169</td>\n",
       "    </tr>\n",
       "    <tr>\n",
       "      <th>presupuesto</th>\n",
       "      <td>0.195501</td>\n",
       "      <td>1.000000</td>\n",
       "      <td>0.772068</td>\n",
       "    </tr>\n",
       "    <tr>\n",
       "      <th>habitantes</th>\n",
       "      <td>0.200169</td>\n",
       "      <td>0.772068</td>\n",
       "      <td>1.000000</td>\n",
       "    </tr>\n",
       "  </tbody>\n",
       "</table>\n",
       "</div>"
      ],
      "text/plain": [
       "             id_comuna  presupuesto  habitantes\n",
       "id_comuna     1.000000     0.195501    0.200169\n",
       "presupuesto   0.195501     1.000000    0.772068\n",
       "habitantes    0.200169     0.772068    1.000000"
      ]
     },
     "execution_count": 3,
     "metadata": {},
     "output_type": "execute_result"
    }
   ],
   "source": [
    "fig = plt.figure()\n",
    "ax = fig.add_axes([0,0,1,1])\n",
    "ax.scatter(hab_pres_frame[\"presupuesto\"], hab_pres_frame[\"habitantes\"])\n",
    "ax.set_xlabel('Presupuesto')\n",
    "ax.set_ylabel('Habitantes')\n",
    "plt.show()\n",
    "\n",
    "hab_pres_frame.corr()"
   ]
  },
  {
   "cell_type": "markdown",
   "metadata": {},
   "source": [
    "El presupuesto tiene alta correlación con los habitantes (0.772068 según la matriz de correlaciones).\n",
    "\n",
    "Claramente se puede apreciar un outlier en el gráfico, al centro y arriba del gráfico. A partir de los ejes, se puede ver que es la única columna con presupuesto mayor a 3\\*10^8. Por lo tanto, se puede filtrar fácilmente en el mismo dataframe."
   ]
  },
  {
   "cell_type": "code",
   "execution_count": 4,
   "metadata": {
    "scrolled": true
   },
   "outputs": [
    {
     "data": {
      "text/html": [
       "<div>\n",
       "<style scoped>\n",
       "    .dataframe tbody tr th:only-of-type {\n",
       "        vertical-align: middle;\n",
       "    }\n",
       "\n",
       "    .dataframe tbody tr th {\n",
       "        vertical-align: top;\n",
       "    }\n",
       "\n",
       "    .dataframe thead th {\n",
       "        text-align: right;\n",
       "    }\n",
       "</style>\n",
       "<table border=\"1\" class=\"dataframe\">\n",
       "  <thead>\n",
       "    <tr style=\"text-align: right;\">\n",
       "      <th></th>\n",
       "      <th>id_comuna</th>\n",
       "      <th>nombre</th>\n",
       "      <th>presupuesto</th>\n",
       "      <th>habitantes</th>\n",
       "    </tr>\n",
       "  </thead>\n",
       "  <tbody>\n",
       "    <tr>\n",
       "      <th>263</th>\n",
       "      <td>13114</td>\n",
       "      <td>LAS CONDES</td>\n",
       "      <td>339980450</td>\n",
       "      <td>294838</td>\n",
       "    </tr>\n",
       "  </tbody>\n",
       "</table>\n",
       "</div>"
      ],
      "text/plain": [
       "     id_comuna      nombre  presupuesto  habitantes\n",
       "263      13114  LAS CONDES    339980450      294838"
      ]
     },
     "execution_count": 4,
     "metadata": {},
     "output_type": "execute_result"
    }
   ],
   "source": [
    "hab_pres_frame[hab_pres_frame[\"presupuesto\"] > 300000000]"
   ]
  },
  {
   "cell_type": "markdown",
   "metadata": {},
   "source": [
    "El outlier es.... **LAS CONDES**\n",
    "\n",
    "\\**finje sorpresa*\\* 😲😲😲😲😲"
   ]
  },
  {
   "cell_type": "markdown",
   "metadata": {},
   "source": [
    "## 2.2 Descartando ciertos outliers\n",
    "\n",
    "Para hacer esta parte, se uso SQL directamente en el CLI de SQLite3. Se uso la siguiente query:\n",
    "```SQL\n",
    "CREATE VIEW ComunaLimpia AS\n",
    "SELECT comuna.id, comuna.nombre FROM comuna\n",
    "INNER JOIN poblacion\n",
    "ON comuna.id = poblacion.cod\n",
    "WHERE poblacion.habitantes > 5000\n",
    "AND comuna.nombre <> \"LAS CONDES\";\n",
    "```\n",
    "\n",
    "Y para comprobar que efectivamente posee una cantidad correcta de filas:\n",
    "\n",
    "```SQL\n",
    "SELECT COUNT(*) FROM ComunaLimpia;\n",
    "```"
   ]
  },
  {
   "cell_type": "markdown",
   "metadata": {},
   "source": [
    "## 2.3 Correlación entre el presupuesto y votación del aprueben\n"
   ]
  },
  {
   "cell_type": "markdown",
   "metadata": {},
   "source": [
    "### Parte 1 (todas las comunas)\n",
    "\n",
    "#### Obtener información de base de datos"
   ]
  },
  {
   "cell_type": "code",
   "execution_count": 5,
   "metadata": {
    "scrolled": true
   },
   "outputs": [
    {
     "data": {
      "text/html": [
       "<div>\n",
       "<style scoped>\n",
       "    .dataframe tbody tr th:only-of-type {\n",
       "        vertical-align: middle;\n",
       "    }\n",
       "\n",
       "    .dataframe tbody tr th {\n",
       "        vertical-align: top;\n",
       "    }\n",
       "\n",
       "    .dataframe thead th {\n",
       "        text-align: right;\n",
       "    }\n",
       "</style>\n",
       "<table border=\"1\" class=\"dataframe\">\n",
       "  <thead>\n",
       "    <tr style=\"text-align: right;\">\n",
       "      <th></th>\n",
       "      <th>id_comuna</th>\n",
       "      <th>nombre</th>\n",
       "      <th>presupuesto</th>\n",
       "      <th>porcentaje_apruebo</th>\n",
       "    </tr>\n",
       "  </thead>\n",
       "  <tbody>\n",
       "    <tr>\n",
       "      <th>0</th>\n",
       "      <td>1101</td>\n",
       "      <td>IQUIQUE</td>\n",
       "      <td>59072234</td>\n",
       "      <td>76.010970</td>\n",
       "    </tr>\n",
       "    <tr>\n",
       "      <th>1</th>\n",
       "      <td>1107</td>\n",
       "      <td>ALTO HOSPICIO</td>\n",
       "      <td>13984404</td>\n",
       "      <td>81.798002</td>\n",
       "    </tr>\n",
       "    <tr>\n",
       "      <th>2</th>\n",
       "      <td>1401</td>\n",
       "      <td>POZO ALMONTE</td>\n",
       "      <td>7613962</td>\n",
       "      <td>77.018377</td>\n",
       "    </tr>\n",
       "    <tr>\n",
       "      <th>3</th>\n",
       "      <td>1402</td>\n",
       "      <td>CAMIÑA</td>\n",
       "      <td>1584008</td>\n",
       "      <td>57.115010</td>\n",
       "    </tr>\n",
       "    <tr>\n",
       "      <th>4</th>\n",
       "      <td>1403</td>\n",
       "      <td>COLCHANE</td>\n",
       "      <td>2500000</td>\n",
       "      <td>25.000000</td>\n",
       "    </tr>\n",
       "    <tr>\n",
       "      <th>...</th>\n",
       "      <td>...</td>\n",
       "      <td>...</td>\n",
       "      <td>...</td>\n",
       "      <td>...</td>\n",
       "    </tr>\n",
       "    <tr>\n",
       "      <th>333</th>\n",
       "      <td>16301</td>\n",
       "      <td>SAN CARLOS</td>\n",
       "      <td>10459701</td>\n",
       "      <td>67.674316</td>\n",
       "    </tr>\n",
       "    <tr>\n",
       "      <th>334</th>\n",
       "      <td>16302</td>\n",
       "      <td>COIHUECO</td>\n",
       "      <td>5001190</td>\n",
       "      <td>61.142620</td>\n",
       "    </tr>\n",
       "    <tr>\n",
       "      <th>335</th>\n",
       "      <td>16303</td>\n",
       "      <td>ÑIQUÉN</td>\n",
       "      <td>3386698</td>\n",
       "      <td>61.479435</td>\n",
       "    </tr>\n",
       "    <tr>\n",
       "      <th>336</th>\n",
       "      <td>16304</td>\n",
       "      <td>SAN FABIÁN</td>\n",
       "      <td>1798500</td>\n",
       "      <td>71.827278</td>\n",
       "    </tr>\n",
       "    <tr>\n",
       "      <th>337</th>\n",
       "      <td>16305</td>\n",
       "      <td>SAN NICOLÁS</td>\n",
       "      <td>3979700</td>\n",
       "      <td>70.322717</td>\n",
       "    </tr>\n",
       "  </tbody>\n",
       "</table>\n",
       "<p>338 rows × 4 columns</p>\n",
       "</div>"
      ],
      "text/plain": [
       "     id_comuna         nombre  presupuesto  porcentaje_apruebo\n",
       "0         1101        IQUIQUE     59072234           76.010970\n",
       "1         1107  ALTO HOSPICIO     13984404           81.798002\n",
       "2         1401   POZO ALMONTE      7613962           77.018377\n",
       "3         1402         CAMIÑA      1584008           57.115010\n",
       "4         1403       COLCHANE      2500000           25.000000\n",
       "..         ...            ...          ...                 ...\n",
       "333      16301     SAN CARLOS     10459701           67.674316\n",
       "334      16302       COIHUECO      5001190           61.142620\n",
       "335      16303         ÑIQUÉN      3386698           61.479435\n",
       "336      16304     SAN FABIÁN      1798500           71.827278\n",
       "337      16305    SAN NICOLÁS      3979700           70.322717\n",
       "\n",
       "[338 rows x 4 columns]"
      ]
     },
     "execution_count": 5,
     "metadata": {},
     "output_type": "execute_result"
    }
   ],
   "source": [
    "# Connect to database\n",
    "conn = sqlite3.connect('municipios.db')\n",
    "conn.text_factory = lambda x: str(x, \"latin-1\")\n",
    "\n",
    "# Create cursor\n",
    "c = conn.cursor()\n",
    "\n",
    "# Obtain data\n",
    "query = '''\n",
    "SELECT id_comuna, municipio, plata, (100.0 * CAST(apruebo AS FLOAT)/(apruebo + rechazo + blancos + nulos)) AS porcentaje_apruebo FROM presupuesto\n",
    "INNER JOIN resultados_plebiscito\n",
    "ON presupuesto.id_comuna = resultados_plebiscito.cod_com\n",
    "'''\n",
    "\n",
    "result = c.execute(query)\n",
    "\n",
    "pres_pleb_frame = pd.DataFrame(result)\n",
    "\n",
    "conn.close()\n",
    "\n",
    "pres_pleb_frame.columns = [\"id_comuna\", \"nombre\", \"presupuesto\", \"porcentaje_apruebo\"]\n",
    "pres_pleb_frame"
   ]
  },
  {
   "cell_type": "markdown",
   "metadata": {},
   "source": [
    "#### Graficar correlación"
   ]
  },
  {
   "cell_type": "code",
   "execution_count": 6,
   "metadata": {
    "scrolled": true
   },
   "outputs": [
    {
     "data": {
      "image/png": "[encoded data removed]",
      "text/plain": [
       "<Figure size 432x288 with 1 Axes>"
      ]
     },
     "metadata": {
      "needs_background": "light"
     },
     "output_type": "display_data"
    },
    {
     "data": {
      "text/html": [
       "<div>\n",
       "<style scoped>\n",
       "    .dataframe tbody tr th:only-of-type {\n",
       "        vertical-align: middle;\n",
       "    }\n",
       "\n",
       "    .dataframe tbody tr th {\n",
       "        vertical-align: top;\n",
       "    }\n",
       "\n",
       "    .dataframe thead th {\n",
       "        text-align: right;\n",
       "    }\n",
       "</style>\n",
       "<table border=\"1\" class=\"dataframe\">\n",
       "  <thead>\n",
       "    <tr style=\"text-align: right;\">\n",
       "      <th></th>\n",
       "      <th>id_comuna</th>\n",
       "      <th>presupuesto</th>\n",
       "      <th>porcentaje_apruebo</th>\n",
       "    </tr>\n",
       "  </thead>\n",
       "  <tbody>\n",
       "    <tr>\n",
       "      <th>id_comuna</th>\n",
       "      <td>1.000000</td>\n",
       "      <td>0.129685</td>\n",
       "      <td>-0.229909</td>\n",
       "    </tr>\n",
       "    <tr>\n",
       "      <th>presupuesto</th>\n",
       "      <td>0.129685</td>\n",
       "      <td>1.000000</td>\n",
       "      <td>-0.070008</td>\n",
       "    </tr>\n",
       "    <tr>\n",
       "      <th>porcentaje_apruebo</th>\n",
       "      <td>-0.229909</td>\n",
       "      <td>-0.070008</td>\n",
       "      <td>1.000000</td>\n",
       "    </tr>\n",
       "  </tbody>\n",
       "</table>\n",
       "</div>"
      ],
      "text/plain": [
       "                    id_comuna  presupuesto  porcentaje_apruebo\n",
       "id_comuna            1.000000     0.129685           -0.229909\n",
       "presupuesto          0.129685     1.000000           -0.070008\n",
       "porcentaje_apruebo  -0.229909    -0.070008            1.000000"
      ]
     },
     "execution_count": 6,
     "metadata": {},
     "output_type": "execute_result"
    }
   ],
   "source": [
    "fig = plt.figure()\n",
    "ax = fig.add_axes([0,0,1,1])\n",
    "ax.scatter(pres_pleb_frame[\"presupuesto\"], pres_pleb_frame[\"porcentaje_apruebo\"])\n",
    "ax.set_xlabel('Presupuesto')\n",
    "ax.set_ylabel('Porcentaje Apruebo')\n",
    "plt.show()\n",
    "\n",
    "pres_pleb_frame.corr()"
   ]
  },
  {
   "cell_type": "markdown",
   "metadata": {},
   "source": [
    "Se puede apreciar una correlación entre el presupuesto y el porcentaje de votos del apruebo de aproximadamente **-0.070008**\n",
    "\n",
    "Se puede ver que la correlación es relativamente baja, y además, es negativa. Esto significa que para este set de comunas, el presupuesto no está muy relacionado con el porcentaje de votos del apruebo. El hecho de que sea negativo, indica que mientras mayor sea el presupuesto, menor será el porcentaje de apruebo, sin embargo, como se dijo anteriormente, la correlación es muy baja, por lo que no se puede aseverar lo anterior."
   ]
  },
  {
   "cell_type": "markdown",
   "metadata": {},
   "source": [
    "### Parte 2 (comunas limpias)\n",
    "\n",
    "#### Obtener información de base de datos"
   ]
  },
  {
   "cell_type": "code",
   "execution_count": 7,
   "metadata": {
    "scrolled": true
   },
   "outputs": [
    {
     "data": {
      "text/html": [
       "<div>\n",
       "<style scoped>\n",
       "    .dataframe tbody tr th:only-of-type {\n",
       "        vertical-align: middle;\n",
       "    }\n",
       "\n",
       "    .dataframe tbody tr th {\n",
       "        vertical-align: top;\n",
       "    }\n",
       "\n",
       "    .dataframe thead th {\n",
       "        text-align: right;\n",
       "    }\n",
       "</style>\n",
       "<table border=\"1\" class=\"dataframe\">\n",
       "  <thead>\n",
       "    <tr style=\"text-align: right;\">\n",
       "      <th></th>\n",
       "      <th>id_comuna</th>\n",
       "      <th>nombre</th>\n",
       "      <th>presupuesto</th>\n",
       "      <th>porcentaje_apruebo</th>\n",
       "    </tr>\n",
       "  </thead>\n",
       "  <tbody>\n",
       "    <tr>\n",
       "      <th>0</th>\n",
       "      <td>1101</td>\n",
       "      <td>IQUIQUE</td>\n",
       "      <td>59072234</td>\n",
       "      <td>76.010970</td>\n",
       "    </tr>\n",
       "    <tr>\n",
       "      <th>1</th>\n",
       "      <td>1107</td>\n",
       "      <td>ALTO HOSPICIO</td>\n",
       "      <td>13984404</td>\n",
       "      <td>81.798002</td>\n",
       "    </tr>\n",
       "    <tr>\n",
       "      <th>2</th>\n",
       "      <td>1401</td>\n",
       "      <td>POZO ALMONTE</td>\n",
       "      <td>7613962</td>\n",
       "      <td>77.018377</td>\n",
       "    </tr>\n",
       "    <tr>\n",
       "      <th>3</th>\n",
       "      <td>1405</td>\n",
       "      <td>PICA</td>\n",
       "      <td>5887820</td>\n",
       "      <td>72.648871</td>\n",
       "    </tr>\n",
       "    <tr>\n",
       "      <th>4</th>\n",
       "      <td>2101</td>\n",
       "      <td>ANTOFAGASTA</td>\n",
       "      <td>100635302</td>\n",
       "      <td>83.278616</td>\n",
       "    </tr>\n",
       "    <tr>\n",
       "      <th>...</th>\n",
       "      <td>...</td>\n",
       "      <td>...</td>\n",
       "      <td>...</td>\n",
       "      <td>...</td>\n",
       "    </tr>\n",
       "    <tr>\n",
       "      <th>276</th>\n",
       "      <td>14201</td>\n",
       "      <td>LA UNIÓN</td>\n",
       "      <td>6839300</td>\n",
       "      <td>72.100356</td>\n",
       "    </tr>\n",
       "    <tr>\n",
       "      <th>277</th>\n",
       "      <td>14202</td>\n",
       "      <td>FUTRONO</td>\n",
       "      <td>3486415</td>\n",
       "      <td>60.644258</td>\n",
       "    </tr>\n",
       "    <tr>\n",
       "      <th>278</th>\n",
       "      <td>14203</td>\n",
       "      <td>LAGO RANCO</td>\n",
       "      <td>3135370</td>\n",
       "      <td>62.514934</td>\n",
       "    </tr>\n",
       "    <tr>\n",
       "      <th>279</th>\n",
       "      <td>14204</td>\n",
       "      <td>RÍO BUENO</td>\n",
       "      <td>5771272</td>\n",
       "      <td>68.140833</td>\n",
       "    </tr>\n",
       "    <tr>\n",
       "      <th>280</th>\n",
       "      <td>15101</td>\n",
       "      <td>ARICA</td>\n",
       "      <td>37808221</td>\n",
       "      <td>75.896961</td>\n",
       "    </tr>\n",
       "  </tbody>\n",
       "</table>\n",
       "<p>281 rows × 4 columns</p>\n",
       "</div>"
      ],
      "text/plain": [
       "     id_comuna         nombre  presupuesto  porcentaje_apruebo\n",
       "0         1101        IQUIQUE     59072234           76.010970\n",
       "1         1107  ALTO HOSPICIO     13984404           81.798002\n",
       "2         1401   POZO ALMONTE      7613962           77.018377\n",
       "3         1405           PICA      5887820           72.648871\n",
       "4         2101    ANTOFAGASTA    100635302           83.278616\n",
       "..         ...            ...          ...                 ...\n",
       "276      14201       LA UNIÓN      6839300           72.100356\n",
       "277      14202        FUTRONO      3486415           60.644258\n",
       "278      14203     LAGO RANCO      3135370           62.514934\n",
       "279      14204      RÍO BUENO      5771272           68.140833\n",
       "280      15101          ARICA     37808221           75.896961\n",
       "\n",
       "[281 rows x 4 columns]"
      ]
     },
     "execution_count": 7,
     "metadata": {},
     "output_type": "execute_result"
    }
   ],
   "source": [
    "# Connect to database\n",
    "conn = sqlite3.connect('municipios.db')\n",
    "conn.text_factory = lambda x: str(x, \"latin-1\")\n",
    "\n",
    "# Create cursor\n",
    "c = conn.cursor()\n",
    "\n",
    "# Obtain data\n",
    "query = '''\n",
    "SELECT ComunaLimpia.id, ComunaLimpia.nombre, presupuesto.plata, (100.0 * CAST(apruebo AS FLOAT)/(apruebo + rechazo + blancos + nulos)) AS porcentaje_apruebo FROM ComunaLimpia\n",
    "INNER JOIN presupuesto\n",
    "ON ComunaLimpia.id = presupuesto.id_comuna\n",
    "INNER JOIN resultados_plebiscito\n",
    "ON ComunaLimpia.id = resultados_plebiscito.cod_com\n",
    "'''\n",
    "\n",
    "result = c.execute(query)\n",
    "\n",
    "pres_pleb_limpia_frame = pd.DataFrame(result)\n",
    "\n",
    "conn.close()\n",
    "\n",
    "pres_pleb_limpia_frame.columns = [\"id_comuna\", \"nombre\", \"presupuesto\", \"porcentaje_apruebo\"]\n",
    "pres_pleb_limpia_frame"
   ]
  },
  {
   "cell_type": "markdown",
   "metadata": {},
   "source": [
    "#### Graficar correlación"
   ]
  },
  {
   "cell_type": "code",
   "execution_count": 8,
   "metadata": {
    "scrolled": true
   },
   "outputs": [
    {
     "data": {
      "image/png": "[encoded data removed]",
      "text/plain": [
       "<Figure size 432x288 with 1 Axes>"
      ]
     },
     "metadata": {
      "needs_background": "light"
     },
     "output_type": "display_data"
    },
    {
     "data": {
      "text/html": [
       "<div>\n",
       "<style scoped>\n",
       "    .dataframe tbody tr th:only-of-type {\n",
       "        vertical-align: middle;\n",
       "    }\n",
       "\n",
       "    .dataframe tbody tr th {\n",
       "        vertical-align: top;\n",
       "    }\n",
       "\n",
       "    .dataframe thead th {\n",
       "        text-align: right;\n",
       "    }\n",
       "</style>\n",
       "<table border=\"1\" class=\"dataframe\">\n",
       "  <thead>\n",
       "    <tr style=\"text-align: right;\">\n",
       "      <th></th>\n",
       "      <th>id_comuna</th>\n",
       "      <th>presupuesto</th>\n",
       "      <th>porcentaje_apruebo</th>\n",
       "    </tr>\n",
       "  </thead>\n",
       "  <tbody>\n",
       "    <tr>\n",
       "      <th>id_comuna</th>\n",
       "      <td>1.000000</td>\n",
       "      <td>0.229504</td>\n",
       "      <td>-0.212196</td>\n",
       "    </tr>\n",
       "    <tr>\n",
       "      <th>presupuesto</th>\n",
       "      <td>0.229504</td>\n",
       "      <td>1.000000</td>\n",
       "      <td>0.013928</td>\n",
       "    </tr>\n",
       "    <tr>\n",
       "      <th>porcentaje_apruebo</th>\n",
       "      <td>-0.212196</td>\n",
       "      <td>0.013928</td>\n",
       "      <td>1.000000</td>\n",
       "    </tr>\n",
       "  </tbody>\n",
       "</table>\n",
       "</div>"
      ],
      "text/plain": [
       "                    id_comuna  presupuesto  porcentaje_apruebo\n",
       "id_comuna            1.000000     0.229504           -0.212196\n",
       "presupuesto          0.229504     1.000000            0.013928\n",
       "porcentaje_apruebo  -0.212196     0.013928            1.000000"
      ]
     },
     "execution_count": 8,
     "metadata": {},
     "output_type": "execute_result"
    }
   ],
   "source": [
    "fig = plt.figure()\n",
    "ax = fig.add_axes([0,0,1,1])\n",
    "ax.scatter(pres_pleb_limpia_frame[\"presupuesto\"], pres_pleb_limpia_frame[\"porcentaje_apruebo\"])\n",
    "ax.set_xlabel('Presupuesto')\n",
    "ax.set_ylabel('Votos Apruebo')\n",
    "plt.show()\n",
    "\n",
    "pres_pleb_limpia_frame.corr()"
   ]
  },
  {
   "cell_type": "markdown",
   "metadata": {},
   "source": [
    "Ahora, se puede apreciar una correlación entre el presupuesto y los votos de apruebo positiva, de aproximadamente **0.013928**."
   ]
  },
  {
   "cell_type": "markdown",
   "metadata": {},
   "source": [
    "### Parte 3\n",
    "\n",
    "Como se mencionó anteriormente, la correlación ahora es positiva, pero al mismo tiempo, el valor absoluto de la correlación disminuyó (se acercó a 0).\n",
    "\n",
    "\n",
    "Una de las razones de este cambio es que se sacó a la comuna outlier (es decir, Las Condes), la cual tenía un alto presupuesto, y relativamente bajo porcentaje de apruebo. Esta comuna causaba que se tendiera a mostrar una relación inversa entre la cantidad de votos de apruebo y el presupuesto, representado por una correlación negativa en el apartado anterior. Al sacarla, se quita este \"peso\", y cambia la correlación para el lado positivo. Aún así, el valor absoluto de la correlación es muy cercano a 0, por lo que es probable que las variables no tengan relación (según los datos)."
   ]
  },
  {
   "cell_type": "markdown",
   "metadata": {},
   "source": [
    "Ánimo con las correcciones! 🤠🤠🤠"
   ]
  }
 ],
 "metadata": {
  "kernelspec": {
   "display_name": "Python 3",
   "language": "python",
   "name": "python3"
  },
  "language_info": {
   "codemirror_mode": {
    "name": "ipython",
    "version": 3
   },
   "file_extension": ".py",
   "mimetype": "text/x-python",
   "name": "python",
   "nbconvert_exporter": "python",
   "pygments_lexer": "ipython3",
   "version": "3.8.6"
  }
 },
 "nbformat": 4,
 "nbformat_minor": 4
}
