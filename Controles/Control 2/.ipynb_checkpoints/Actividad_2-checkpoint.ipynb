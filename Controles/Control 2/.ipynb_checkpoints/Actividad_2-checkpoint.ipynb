{
 "cells": [
  {
   "cell_type": "code",
   "execution_count": 1,
   "metadata": {
    "id": "xRFIrBQDXk61"
   },
   "outputs": [],
   "source": [
    "from buffer import * \n",
    "from database import * \n",
    "from pageNew import * \n",
    "from relation import * "
   ]
  },
  {
   "cell_type": "markdown",
   "metadata": {
    "id": "f0d9zAnsXtOp"
   },
   "source": [
    "# Introduccion Actividad 2\n",
    "\n",
    "En este control trabajaremos con una implementación de componentes básicos de una base de datos.\n",
    "\n",
    "Se les entregará una implementación sencilla de un storage manager que maneja páginas de disco, y un buffer manager que actual como un intermediario entre los datos en el disco, y la base de datos. Adicionalmente, tendremos una libreria que maneja relaciones, y un motor sencillo de bases de datos que permite crear tablas, insertar tuplas, y hacer consultas sencillas.\n",
    "\n",
    "**IMPORTANTE** : para ejecutar este jupyter notebook deben haber descargado los archivos disponibles en el github y tenerlos en la misma carpeta en la que se encuentra este notebook.   "
   ]
  },
  {
   "cell_type": "markdown",
   "metadata": {
    "id": "wMAnf9U9X_Ie"
   },
   "source": [
    "Como vimos en la clase, el flujo de información es el siguiente: los datos se guardan en páginas de disco, y el buffer manager carga las páginas desde el disco para que la base de datos las pueda ocupar. \n",
    "\n",
    "En nuestro caso representaremos las paginas de disco por archivos que contienen 6 lineas donde: \n",
    "* las lineas 1 a 5 contienen las casillas\n",
    "* la linea 6 contiene el string `\"<NEXT> next_page\"` que indica la siguiente página en el disco; \"next_page\" es o el nombre de un archivo en el disco, o `\"<NULL>\"` cuando estamos en la última página \n",
    "* cada casilla puede tener una tupla o estar vacia (esto ultimo se represanta con con el string `\"<EMPTY>\"`)\n",
    "* las tuplas se representaran por strings\n",
    "* los tipos de datos que puede tener una tupla son int o string que **no contenga espacios** (el espacio lo utilizaremos para separar los distintos datos de una tupla)\n",
    "\n",
    "**Ejemplo**\n",
    "\n",
    "Consideremos la relacion R(a string, b int) poblada con los siguientes datos\n",
    "\n",
    "a | b\n",
    "-- | --\n",
    "hello | 1\n",
    "bye | 2\n",
    "hola | 5\n",
    "\n",
    "Entonces la pagina en disco que contiene esta relacion tendra el siguiente formato.  \n",
    "\n",
    "\n",
    "```\n",
    "hello 1\n",
    "bye 2\n",
    "hola 5\n",
    "<EMPTY>\n",
    "<EMPTY>\n",
    "<NEXT> <NULL>\n",
    "```\n",
    "\n",
    "En el caso anterior, toda la relacion R cabe en una sola pagina de disco. Veamos ahora el siguiente caso: \n",
    "\n",
    "a | b\n",
    "-- | --\n",
    "hello | 1\n",
    "bye | 2\n",
    "hola | 5\n",
    "soy | 9\n",
    "una | 10\n",
    "relacion | 7\n",
    "grande | 2\n",
    "\n",
    "Como el tamaño de pagina soporta un maximo de 5 tuplas, entonces nuestra relacion quedara dividida en dos paginas de disco: `R-1` y `R-2`. \n",
    "\n",
    "\n",
    "Primero veamos `R-1`\n",
    "```\n",
    "hello 1\n",
    "bye 2\n",
    "hola 5\n",
    "soy 9\n",
    "una 10\n",
    "<NEXT> R-2\n",
    "```\n",
    "y ahora `R-2`\n",
    "```\n",
    "relacion 7\n",
    "grande 2 \n",
    "<EMPTY>\n",
    "<EMPTY>\n",
    "<EMPTY>\n",
    "<NEXT> <NULL>\n",
    "```\n",
    "\n",
    "\n",
    "\n",
    "\n",
    "\n",
    "\n",
    "\n",
    "\n"
   ]
  },
  {
   "cell_type": "markdown",
   "metadata": {
    "id": "pg1VCaGwZO2P"
   },
   "source": [
    "## Clase Page"
   ]
  },
  {
   "cell_type": "markdown",
   "metadata": {
    "id": "HiUrCCIjZSc2"
   },
   "source": [
    "En primer lugar conoceremos la clase Page implementada en el archivo `pageNew.py`. Esta clase es la que se encarga de manejar las paginas en las cuales estaran guardados los datos (tuplas).\n",
    "\n",
    "A continuacion se lista la signatura de la clase Page que incluye los metodos necesarios para leer las paginas a partir de los archivos, escribir en ellas \n",
    " \n",
    "```\n",
    "Page\n",
    "\tDatos:\n",
    "\t- size (número de tuplas que caben en la página)\n",
    "\t- pname (nómbre del archivo en disco que contiene la página)\n",
    "\t- data = [] (las tuplas de la página, representadas como un string)\n",
    "\t- next = ('<NULL>' o nombre de la siguiente página)\n",
    "\t- dirty (Un booleano que nos dice si el contenido de la página cambió, y hay que guardar estos cambios en el disco -- ver discusion del buffer después)\n",
    "\tMetodos:\n",
    "\t- write_page() -- escribir la página al disco (si dirty == True)\n",
    "\t- read_from_disk() -- leer la página pname desde el disco (pname es un dato del objeto Page)\n",
    "\t- set_next_page(next_pname) -- setea la siguiente página, pone dirty = True\n",
    "\t- get_next_page_name() -- devuelve la siguiente página, o None si esta no existe\n",
    "\t- insert_into_pos(pos, tuple) -- si la posición pos está vacía, se inserta la tupla tuple en este posición, dirty = True\n",
    "\t- get_element_from_page(pos) -- devuelve la tupla en la posición pos\n",
    "```\n",
    "\n",
    "\n",
    "Veamos el uso basico de esta clase:\n",
    "\n",
    "\n",
    "```\n",
    "page = Page('P-1') # Inicializa una página vacía; este objeto todavía no está en el disco\n",
    "page.read_from_disk() # Carga el contenida de la página P-1 desde el disco, si P-1 existe en el disco\n",
    "page.write_page() # Si el bit dirty = True, escribe la página al disco\n",
    "page.set_next_page(next_page) # Setea el valor del next = next_page\n",
    "page.get_next_page_name() # Devuelve la página siguiente, o None si esta no existe\n",
    "page.insert_into_pos(pos,tuple) # Inserta la tupla tuple (somo un string) a la posición pos, si esta está vacía\n",
    "page.get_element_from_page(pos) # Devueleve la tupla en la posición pos si se trata de una posición válida (0-4)\n",
    "```\n",
    "\n",
    "\n",
    "\n"
   ]
  },
  {
   "cell_type": "markdown",
   "metadata": {
    "id": "FZEkkFsFaYzv"
   },
   "source": [
    "Por ejemplo, para leer la pagina R-1 (que ya tenemos creada) hacemos: "
   ]
  },
  {
   "cell_type": "code",
   "execution_count": 4,
   "metadata": {
    "colab": {
     "base_uri": "https://localhost:8080/"
    },
    "id": "DmWNxA7OZ4ip",
    "outputId": "f6010c9e-75af-4537-c4be-b544dffa0e57"
   },
   "outputs": [
    {
     "name": "stdout",
     "output_type": "stream",
     "text": [
      "['30 30', '16 22', '0 7', '1 3', '7 2']\n"
     ]
    }
   ],
   "source": [
    "# Cargamos una pagina que ya existe\n",
    "\n",
    "page = Page('R-1') #Crear la instancia de pagina\n",
    "page.read_from_disk() #Cargar la pagina en disco, si no existe va a tirar un error\n",
    "\n",
    "# Revisamos que contiene la pagina R-1\n",
    "print(page.data)"
   ]
  },
  {
   "cell_type": "markdown",
   "metadata": {
    "id": "uLZQm61-ZQiA"
   },
   "source": [
    "## Buffer Manager"
   ]
  },
  {
   "cell_type": "markdown",
   "metadata": {
    "id": "zi5XiUFabHQF"
   },
   "source": [
    "La segunda componente de un motor de bases de datos es un buffer (o un Buffer Manager para ser más preciso). Esta componente reserva una cantidad de RAM para cargar páginas desde el disco, y permitir a la base de datos trabajar con los datos. \n",
    "\n",
    "En terminos simples, un buffer es simplemente un arreglo que contiene páginas de nuestras relaciones. En este sentido, el buffer es un \"scrap space\" para trabajar con las páginas de nuestras relaciones, y es el único \"snapshot\" de las relaciones que la base de datos puede ver en un momento.\n",
    "\n",
    "Cuando un proceso en la base de datos (por ejemplo, la consulta de un usuario) necesita cierta tupla, el motor tiene que encargarse de conocer la página en cual encontrar la tupla, y pedir a buffer esta página. \n",
    "* Si la página está en el buffer, el buffer manager devuelve un puntero a la página a la base de datos. \n",
    "* Si la página no está en el buffer, el buffer manager carga la página desde el disco, y de nuevo devuelve el puntero hacia la página a la base de datos.\n",
    "\n",
    "Para recalcar: **la única manera que una base de datos puede acceder a los datos es a través del buffer**, y no leyendo los datos directamente desde el disco. Entonces, todos los procesos que tienen que ver con accesso a los datos, actualizaciones, etc. **se hacen necesariamente a través del buffer**.\n",
    "\n",
    "En cierto sentido, las páginas en el buffer son la versión actual de los datos que el motor ve. Para esto, cada página tiene un bit llamado `dirty`, que nos dice si la página cambió, y cuando el buffer manager decide sacar una página desde el buffer, lo que hace es escribirla al disco si la página hubo cambios (aquí simplificamos un poco la lógica detras de manejo de páginas, pero en la parte del curso que habla sobre transacciones veremos esto en más detalles).\n",
    "\n",
    "Nuestra implementacion del buffer se ubica en el archivo `buffer.py`, que define la clase `Buffer`. La clase `Buffer` encapsula el trabajo de un buffer manager, y contiene lo siguiente:\n",
    "\n",
    "\n",
    "```\n",
    "Buffer:\n",
    "\tDatos:\n",
    "\t- buffSize Tamaño de nuestro buffer (número de frames)\n",
    "\t- frames = [] Arreglo de tamaño buffSize que contiene las páginas\n",
    "\t- pages_dict = {} El diccionario que mapea nombres de páginas a frames (e.g. {'p1': 1}) para poder buscar si la página ya está en el buffer\n",
    "\t- occupied El conteo de frames ocupados por páginas\n",
    "\t- clock_pos La sigueinte posición a cual se argará la página; funciona como un reloj modular\n",
    "\n",
    "\tMetodos:\n",
    "\t- isFull() True si occupied == buffSize\n",
    "\t- create_page(pname) -- crea la página pname y la escribe al disco (solo si esta no existe)\n",
    "\t- fetch_page(pname) -- carga la página pname a un frame, o indica que misma ya está en el buffer\n",
    "\t- get_page(pname) -- devuelve el puntero a la página pname en el buffer (si necesario la carga desde el sico)\n",
    "\t- ** fetch_into_frame(pname,frame_num) -- carga la página pname en el frame frame_num\n",
    "\t- evict_page(pname) -- saca la página pname desde el buffer; si dirty = True la escribe al disco\n",
    "\t- flush_buffer() -- limpia el buffer y lo deja vacio\n",
    "\t- flush_and_fill(pname,num) -- limpia el buffer, y después carga num páginas partiendo desde la página pname; si se llega a una página sin la página siguiente antes de cargar num páginas, el proceso se detiene [este metodo solo es necesario para implementar el block nested loop join]\n",
    "```\n",
    "\n",
    "A continuacion veremos el uso basico de esta clase:\n",
    "\n",
    "\n",
    "```\n",
    "buffer = Buffer() # Crea un buffer nuevo con la capacidad de 4 páginas (limite bajo para hacer testing)\n",
    "buffer.fetch_page(pName) # Carga la página pName desde el disco al buffer, si esta no está en el buffer\n",
    "buffer.get_page(pName) # Retorna puntero a la página pName en el buffer (si la página no está en el buffer al llamar este metodo, se carga al buffer usando fetch_page())\n",
    "buffer.create_page(pName) # Crea una página nueva llamada pName (si esta ya no existe en el disco), la carga al buffer, y devuelve el puntero a esta página\n",
    "buffer.evict_page(pName) # saca la página pName desde el buffer; si es necesario la escribe al disco\n",
    "buffer.flush_buffer() # Deja el buffer vacío. Si alguna de las paginas sufrio cambios y tiene su bit dirty, entonces esos cambios pasan a disco. \n",
    "```\n",
    "\n",
    "\n",
    "\n",
    "\n",
    "\n",
    "\n",
    "\n",
    "\n"
   ]
  },
  {
   "cell_type": "markdown",
   "metadata": {
    "id": "t7etnj64cTSp"
   },
   "source": [
    "Veamos un ejemplo de uso:"
   ]
  },
  {
   "cell_type": "code",
   "execution_count": 27,
   "metadata": {
    "colab": {
     "base_uri": "https://localhost:8080/"
    },
    "id": "OHmS3a8aX9s_",
    "outputId": "6e9d4ae3-0046-4a5a-b7f6-045214297e75"
   },
   "outputs": [
    {
     "name": "stdout",
     "output_type": "stream",
     "text": [
      "[None, None, None, None]\n"
     ]
    }
   ],
   "source": [
    "buffer = Buffer() # Creamos un buffer nuevo\n",
    "\n",
    "print(buffer.frames)"
   ]
  },
  {
   "cell_type": "markdown",
   "metadata": {
    "id": "SFYpe5jMc0kj"
   },
   "source": [
    "Como podemos ver el buffer se encuentra vacio, luego podemos cargar una pagina. "
   ]
  },
  {
   "cell_type": "code",
   "execution_count": 13,
   "metadata": {
    "colab": {
     "base_uri": "https://localhost:8080/"
    },
    "id": "EIRrsISackKW",
    "outputId": "fa686495-9624-4aad-9de4-56a81470e6b0"
   },
   "outputs": [
    {
     "name": "stdout",
     "output_type": "stream",
     "text": [
      "[<pageNew.Page object at 0x7fc83efd3160>, None, None, None]\n",
      "{'R-1': 0}\n"
     ]
    }
   ],
   "source": [
    "buffer.fetch_page(\"R-1\")\n",
    "print(buffer.frames)\n",
    "print(buffer.pages_dict)"
   ]
  },
  {
   "cell_type": "markdown",
   "metadata": {
    "id": "ZmrE0qxkdEDV"
   },
   "source": [
    "Finalmente hacemos flush y dejamos el buffer vacio"
   ]
  },
  {
   "cell_type": "code",
   "execution_count": 14,
   "metadata": {
    "colab": {
     "base_uri": "https://localhost:8080/"
    },
    "id": "rGoTgY03c7Bo",
    "outputId": "aa306cf3-0a78-4ad5-ccdd-e34bfbe4ce15"
   },
   "outputs": [
    {
     "name": "stdout",
     "output_type": "stream",
     "text": [
      "[None, None, None, None]\n"
     ]
    }
   ],
   "source": [
    "buffer.flush_buffer()\n",
    "print(buffer.frames)"
   ]
  },
  {
   "cell_type": "markdown",
   "metadata": {
    "id": "K_qG55MKxTqM"
   },
   "source": [
    "Para crear una nueva pagina hacemos: "
   ]
  },
  {
   "cell_type": "code",
   "execution_count": 22,
   "metadata": {
    "colab": {
     "base_uri": "https://localhost:8080/"
    },
    "id": "Vfm-AAcUxWTQ",
    "outputId": "2e49456e-5c7c-4f42-f2ac-2a112e026875"
   },
   "outputs": [
    {
     "name": "stdout",
     "output_type": "stream",
     "text": [
      "['<EMPTY>', '<EMPTY>', '<EMPTY>', '<EMPTY>', '<EMPTY>']\n",
      "N-2\n"
     ]
    }
   ],
   "source": [
    "new_page = buffer.create_page(\"N-1\")\n",
    "# Podemos ver que la pagina nueva esta vacia\n",
    "print(new_page.data)\n",
    "\n",
    "# Podemos crear otra pagina nueva y linkearla a la anterior\n",
    "new_page2 = buffer.create_page(\"N-2\")\n",
    "new_page.set_next_page(\"N-2\")\n",
    "print(new_page.get_next_page_name())\n",
    "\n",
    "buffer.flush_buffer() # vaciamos el buffer, con esto los cambios que efectuamos en las paginas se guardan en disco"
   ]
  },
  {
   "cell_type": "code",
   "execution_count": 28,
   "metadata": {
    "colab": {
     "base_uri": "https://localhost:8080/"
    },
    "id": "zbnKVu8D0d8T",
    "outputId": "ca216a00-f662-4ce5-a021-360e98005427"
   },
   "outputs": [
    {
     "name": "stdout",
     "output_type": "stream",
     "text": [
      "N-2\n"
     ]
    }
   ],
   "source": [
    "# Revisemos que los cambios persistan\n",
    "\n",
    "page_n1 = buffer.get_page(\"N-1\") #le pedimos la pagina al buffer, si la pagina no esta, el buffer la va a buscar a disco\n",
    "\n",
    "print(page_n1.get_next_page_name())"
   ]
  },
  {
   "cell_type": "markdown",
   "metadata": {
    "id": "T8KAWZEJdhhT"
   },
   "source": [
    "## Relaciones"
   ]
  },
  {
   "cell_type": "markdown",
   "metadata": {
    "id": "Zj9HUrYbdlLL"
   },
   "source": [
    "La última libreria que necesitamos es un manager de tablas. El manager de tablas que usaremos se encuentra en el archivo `relation.py`, y representa la interfaz de una tabla en nuestra base de datos. Esta interfaz nos permitira navegar a traves de las relaciones, que se encuentran alojadas en paginas de disco (ver la clase `Page`). Para ir iterando sobre las tuplas de la relacion, la interfaz provee los metodos `open()`, `close()` y `next()` que nos permiten abrir, cerrar y avanzar dentro de la relacion. \n",
    "\n",
    "\n",
    "```\n",
    "Relation:\n",
    "\tDatos:\n",
    "\t- buffer -- el buffer que la relación ocupará (nuestra base de datos ocupará un buffer para todas las relaciones)\n",
    "\t- rName -- nombre de la relación; un string \n",
    "\t- attributes -- lista de nombres de atributos e.g. ['a','b'] \n",
    "\t- types -- lista de tipos de atributos e.g. ['int','str'] -- solo soportamos int y str \n",
    "\t- numAttrib = len(attributes) -- número de atributos\n",
    "\t- root_page = rName + '-1' -- nombre de la primera página de la relación (convención R-1, R-2, ... para la relacion R) \n",
    "\t- current_page -- la página actual del cursor usado por .open(), .next() \n",
    "\t- current_pos -- la posición en current_page del cursor usado por .open(), .next()\n",
    "\n",
    "\tMetodos:\n",
    "\t- open() -- como en las clases\n",
    "\t- has_next() -- true si hay una tupla partiendo desde la posición actuál\n",
    "\t- next() -- Devuelve la siguiente tupla si existe, si no None\n",
    "\t- close() -- como en las clases\n",
    "\t- get_attribute_types() -- devuelve dicionario con el esquema de la relación (e.g. para R(a int, b str) devuelve {'a': 'int', 'b': 'str'} )\n",
    "\t- get_individual_values(tup) -- si tup es string con una tupla de la relación devuelve el arreglo de valores; e.g. si tup = '1 Hola', R(a int, b str), entonces R.get_individual_values(tup) = [1,'Hola']\n",
    "\t- insert_tuple(tup) -- inserta la tupla tup en la relación (esto deben implementarlo ustedes)\n",
    "```\n",
    "\n",
    "Uso básico de la clase Relation\n",
    "\n",
    "\n",
    "```\n",
    "R = Relation('R',['a','b'],['int','int'],buff) # Crea una nueva relación llamada 'R', con esquema R(a int, b int), ocupando el buffer buff para comunicarse con el disco; si la primera página de R (llamada 'R-1' existe en el disco, se asume que la relación ya existe, y se carga desde el disco, si no, se crea la página 'R-1', y escribe al disco)\n",
    "R.open() # Se posiciona antes de la primera tupla de R; crea nuestro cursor\n",
    "R.has_next() # Devuelve True si existe una siguiente tupla en R (desde la posición actual del cursor)\n",
    "R.next() # Devuelve la siguiente tupla y mueve el cursor\n",
    "R.close() # cierra el cursor para R\n",
    "R.get_attribute_types() # Devuelve el diccionario indicando el tipo de cada atributo... {'a':'int', 'b':'int'} para nuestro ejemplo\n",
    "R.get_individual_values(tup) # Si 'tup' es una tupla segun el esquema de 'R', se devuelve el diccionario de valores; por ejemplo, R.get_individual_values('1 73') devuelve {'a':1, 'b':73} en nuestro ejemplo\n",
    "```\n",
    "\n",
    "Veamos un ejemplo: \n"
   ]
  },
  {
   "cell_type": "code",
   "execution_count": null,
   "metadata": {
    "id": "v7Pu_hYFdMF2"
   },
   "outputs": [],
   "source": [
    "R = Relation('R' ,['a','b'], ['int','int'], buffer) # Cargamos la relacion R de disco\n",
    "R.open()"
   ]
  },
  {
   "cell_type": "code",
   "execution_count": null,
   "metadata": {
    "colab": {
     "base_uri": "https://localhost:8080/",
     "height": 35
    },
    "id": "x-R8IBVlen-Z",
    "outputId": "eb31239e-2851-4d56-ec7c-f565d7d5f909"
   },
   "outputs": [
    {
     "name": "stdout",
     "output_type": "stream",
     "text": [
      "[<pageNew.Page object at 0x7f4a2a2b3be0>, None, None, None]\n"
     ]
    }
   ],
   "source": [
    "## Podemos revisar que la pagina quedo cargada en el buffer\n",
    "print(buffer.frames)"
   ]
  },
  {
   "cell_type": "code",
   "execution_count": null,
   "metadata": {
    "colab": {
     "base_uri": "https://localhost:8080/",
     "height": 399
    },
    "id": "QcnceQeAeTrf",
    "outputId": "359bc2cf-bdfc-410e-8628-964249be4fdb"
   },
   "outputs": [
    {
     "name": "stdout",
     "output_type": "stream",
     "text": [
      "30 30\n",
      "16 22\n",
      "0 7\n",
      "1 3\n",
      "7 2\n",
      "1 1\n",
      "7 7\n",
      "1 2\n",
      "1 8\n",
      "16 37\n",
      "15 7\n",
      "15 4\n",
      "15 3\n",
      "15 2\n",
      "15 1\n",
      "15 5\n",
      "16 3\n",
      "16 2\n",
      "16 1\n",
      "15 6\n",
      "11 22\n"
     ]
    }
   ],
   "source": [
    "# Ahora imprimimos por las tuplas de R, esto nos mueve por todas las paginas de R (R-1, R-2, ... , R-n)\n",
    "R.open()\n",
    "\n",
    "while (R.has_next()):\n",
    "  print(R.next())\n",
    "\n",
    "R.close()"
   ]
  },
  {
   "cell_type": "markdown",
   "metadata": {
    "id": "zIfFp5LVfd19"
   },
   "source": [
    "## Motor de base de datos"
   ]
  },
  {
   "cell_type": "markdown",
   "metadata": {
    "id": "vKGwEPRBfh_i"
   },
   "source": [
    "Finalmente, nuestro motor de bases de datos, ubicado en database.py, nos permite interactuar con las relaciones, cuyos datos están guardados en la páginas del disco, y cuales se consiguen ocupando el buffer.\n",
    "\n",
    "La base de datos guarda dos objetos:\n",
    "1. Buffer: un objeto de la clase Buffer que contiene nuestro buffer\n",
    "2. Relations: un dicionario objetos de la clase Relation, indexado por el nombre de la relación (e.g. {'R': Relation('R',['a','b'],['int','int'])})\n",
    "\n",
    "La base de datos provee las siguientes funcionalidades:\n",
    "\n",
    "\t- create_table(rName, attributes, types, buff = Buffer) -- se crea un objeto de tipo Relation que ocupa el buffer de la base de datos, y se guarda en el dicionario Relations. Si la relación con el nombre rName ya existe en la base de datos se devuelve un error\n",
    "\t- all_tuples(R) -- devuelve todas las tuplas de la relación R\n",
    "\t- filtered_tuples(R,cond) -- [ustedes deben implementarla] resuelve la consulta 'SELECT * FROM R WHERE a = x' aquí R es el nombre de la relación, y 'cond' es un condición del tipo 'attributo = valor'\n",
    "\t- cross(R, S) -- devuelve el producto cruz entre R y S; bajo la suposición que R no es igual a S\n",
    "\t- nested_loop_join(R,S,attrib) -- [ustedes deben implementarla] 'SELECT * FROM R,S WHERE R.attrib = S.attrib', supone que R no es igual a S\n",
    "\n",
    "Veamos un ejemplo de uso: \n"
   ]
  },
  {
   "cell_type": "code",
   "execution_count": 29,
   "metadata": {
    "colab": {
     "base_uri": "https://localhost:8080/"
    },
    "id": "XDHsiUR9eY-V",
    "outputId": "d1896f50-05f9-4842-d949-26c6bb0e26e3"
   },
   "outputs": [
    {
     "data": {
      "text/plain": [
       "True"
      ]
     },
     "execution_count": 29,
     "metadata": {
      "tags": []
     },
     "output_type": "execute_result"
    }
   ],
   "source": [
    "# Creando tablas (los archivos de estas dos relaciónes están en la carpeta con el código):\n",
    "create_table('R',['a','b'],['int','int'])\n",
    "create_table('S',['b','c'],['int','int'])"
   ]
  },
  {
   "cell_type": "code",
   "execution_count": 30,
   "metadata": {
    "colab": {
     "base_uri": "https://localhost:8080/"
    },
    "id": "CAES1dI32RmQ",
    "outputId": "88fd2f8c-c5f1-4a0f-af97-b4ec3cc415e5"
   },
   "outputs": [
    {
     "name": "stdout",
     "output_type": "stream",
     "text": [
      "30 30 1 1\n",
      "30 30 1 3\n",
      "30 30 4 4\n",
      "30 30 1 8\n",
      "16 22 1 1\n",
      "16 22 1 3\n",
      "16 22 4 4\n",
      "16 22 1 8\n",
      "0 7 1 1\n",
      "0 7 1 3\n",
      "0 7 4 4\n",
      "0 7 1 8\n",
      "1 3 1 1\n",
      "1 3 1 3\n",
      "1 3 4 4\n",
      "1 3 1 8\n",
      "7 2 1 1\n",
      "7 2 1 3\n",
      "7 2 4 4\n",
      "7 2 1 8\n",
      "1 1 1 1\n",
      "1 1 1 3\n",
      "1 1 4 4\n",
      "1 1 1 8\n",
      "7 7 1 1\n",
      "7 7 1 3\n",
      "7 7 4 4\n",
      "7 7 1 8\n",
      "1 2 1 1\n",
      "1 2 1 3\n",
      "1 2 4 4\n",
      "1 2 1 8\n",
      "1 8 1 1\n",
      "1 8 1 3\n",
      "1 8 4 4\n",
      "1 8 1 8\n",
      "16 37 1 1\n",
      "16 37 1 3\n",
      "16 37 4 4\n",
      "16 37 1 8\n",
      "15 7 1 1\n",
      "15 7 1 3\n",
      "15 7 4 4\n",
      "15 7 1 8\n",
      "15 4 1 1\n",
      "15 4 1 3\n",
      "15 4 4 4\n",
      "15 4 1 8\n",
      "15 3 1 1\n",
      "15 3 1 3\n",
      "15 3 4 4\n",
      "15 3 1 8\n",
      "15 2 1 1\n",
      "15 2 1 3\n",
      "15 2 4 4\n",
      "15 2 1 8\n",
      "15 1 1 1\n",
      "15 1 1 3\n",
      "15 1 4 4\n",
      "15 1 1 8\n",
      "15 5 1 1\n",
      "15 5 1 3\n",
      "15 5 4 4\n",
      "15 5 1 8\n",
      "16 3 1 1\n",
      "16 3 1 3\n",
      "16 3 4 4\n",
      "16 3 1 8\n",
      "16 2 1 1\n",
      "16 2 1 3\n",
      "16 2 4 4\n",
      "16 2 1 8\n",
      "16 1 1 1\n",
      "16 1 1 3\n",
      "16 1 4 4\n",
      "16 1 1 8\n",
      "15 6 1 1\n",
      "15 6 1 3\n",
      "15 6 4 4\n",
      "15 6 1 8\n",
      "11 22 1 1\n",
      "11 22 1 3\n",
      "11 22 4 4\n",
      "11 22 1 8\n"
     ]
    },
    {
     "data": {
      "text/plain": [
       "True"
      ]
     },
     "execution_count": 30,
     "metadata": {
      "tags": []
     },
     "output_type": "execute_result"
    }
   ],
   "source": [
    "cross('R','S') # Imprime las tuplas en el producto cruz de nuestras dos relaciones"
   ]
  },
  {
   "cell_type": "code",
   "execution_count": 31,
   "metadata": {
    "colab": {
     "base_uri": "https://localhost:8080/"
    },
    "id": "jvUfIohH2Tse",
    "outputId": "baa1d8e4-18aa-4241-ee48-e7aa11172d66"
   },
   "outputs": [
    {
     "name": "stdout",
     "output_type": "stream",
     "text": [
      "30 30\n",
      "16 22\n",
      "0 7\n",
      "1 3\n",
      "7 2\n",
      "1 1\n",
      "7 7\n",
      "1 2\n",
      "1 8\n",
      "16 37\n",
      "15 7\n",
      "15 4\n",
      "15 3\n",
      "15 2\n",
      "15 1\n",
      "15 5\n",
      "16 3\n",
      "16 2\n",
      "16 1\n",
      "15 6\n",
      "11 22\n"
     ]
    }
   ],
   "source": [
    "all_tuples('R') # Imprime todas las tuplas en 'R'"
   ]
  },
  {
   "cell_type": "code",
   "execution_count": 32,
   "metadata": {
    "colab": {
     "base_uri": "https://localhost:8080/"
    },
    "id": "sZwysjyh28CR",
    "outputId": "63ec2caa-f49a-483b-b465-11d6a4f0bd0b"
   },
   "outputs": [
    {
     "data": {
      "text/plain": [
       "True"
      ]
     },
     "execution_count": 32,
     "metadata": {
      "tags": []
     },
     "output_type": "execute_result"
    }
   ],
   "source": [
    "# Podemos crear una nueva relacion N, con las paginas que creamos anteriormente\n",
    "# Nuestra relacion sera N(a int, b int, c int)\n",
    "\n",
    "create_table('N',['a','b','c'],['int','int','int'])"
   ]
  },
  {
   "cell_type": "code",
   "execution_count": 34,
   "metadata": {
    "id": "Ja0j55lg3hYL"
   },
   "outputs": [],
   "source": [
    "# Como nuestras paginas estaban vacias, nuestra relacion tambien lo estara\n",
    "all_tuples('N')\n",
    "\n",
    "# El metodo para insertar tuplas deben implementarlo ustedes!! "
   ]
  },
  {
   "cell_type": "markdown",
   "metadata": {
    "id": "IflLgKQrf4mL"
   },
   "source": [
    "# La actividad"
   ]
  },
  {
   "cell_type": "markdown",
   "metadata": {
    "id": "Xo8JRAD1gDYL"
   },
   "source": [
    "Para esta actividad ustedes deben implementar los siguientes metodos: \n",
    "\n"
   ]
  },
  {
   "cell_type": "markdown",
   "metadata": {
    "id": "EcIoCIMYgOnR"
   },
   "source": [
    "\n",
    "1. **[2 puntos]** Implementar insert_tuple(tup) en `relation.py` \n",
    "\n",
    "Para esta primera actividad deben en primer lugar revisar si la tupla ya esta en la relacion. Si no está deben insertar la tupla en alguna posición que se encuentre vacia (sea una posicion de una pagina existente marcada con `'<EMPTY>'` o una posicion en una pagina nueva). Si crean una página nueva tienen que linkearla con la anterior. \n",
    "\n",
    "La manipulacion de paginas deben realizarla usando el buffer. Los metodos que usaran son: \n",
    "```\n",
    "\t- buffer.get_page(pname) -- para conseguir las páginas\n",
    "\t- page.insert_into_pos(emptyPos,tup)  -- para insertar un dato en una posición vacia\n",
    "\t- buffer.evict_page(pname) -- para forzar al buffer escribir una página al disco (una vez insertada la tupla nueva)\n",
    "\t- buffer.create_page(pname) -- si necesitan crear una página nueva\n",
    "\t- page.set_next_page(pname) -- para setear next_page\n",
    "```\n",
    "2. **[2 puntos]** Implementar el método filtered_tuples(R,cond) en `database.py`\n",
    "3. **[2 puntos]** Implementar el método nested_loop_join(R,S) en `database.py`\n",
    "\n",
    "Para estas dos actividades pueden utilizar los metodos `open(), next(), has_next(), get_attribute_types(), get_individual_value()` de la clase `Relation` (ademas de  metodos de string)\n",
    "\n",
    "\n",
    "\n",
    "\n",
    "\n",
    " "
   ]
  },
  {
   "cell_type": "markdown",
   "metadata": {
    "id": "3PB3qL07jkDb"
   },
   "source": [
    "## La entrega\n",
    "\n",
    "Deben entregar un archivo .zip que contenga los archivos .py con las implementaciones pedidas. Ademas debe entregar este jupyter notebook con un demo de codigo que realice lo siguiente: \n",
    "\n",
    "1. Crear una relacion nueva  T(a int, c int)\n",
    "2. Usando su metodo `insert_tuple(tup)`, inserte 7 tuplas en T. Luego de esto, muestre todas las tuplas en T\n",
    "3. Usando su metodo `filtered_tuples(R,cond)` realice la consulta `SELECT * FROM T WHERE a=1`\n",
    "4. Ejecute un nested loop join entre R y T\n",
    "5. Ejecute un nested loop join entre S y T\n",
    "\n",
    "Si lo considera necesario, escriba un readme que explique su codigo y/o como ejecutarlo. \n",
    "\n",
    "**Recuerde que los datos de las relaciones R y S ya estan creados y disponibles para su descarga en el github del curso (no deben crearlos ustedes)**\n",
    "\n"
   ]
  },
  {
   "cell_type": "markdown",
   "metadata": {
    "id": "Rgr_AXLhkCE8"
   },
   "source": [
    "*Escriba aqui su readme!*\n",
    "> *bla, bla bla*\n",
    "\n"
   ]
  },
  {
   "cell_type": "code",
   "execution_count": null,
   "metadata": {
    "id": "j2Awa-nUhboc"
   },
   "outputs": [],
   "source": [
    "## Escriba aqui el demo de uso del metodo insert_tuple(tup)\n",
    "\n",
    "# Crear la relacion R\n",
    "# Hacer 7 inserciones\n",
    "# Mostrar all_tuples('T')\n"
   ]
  },
  {
   "cell_type": "code",
   "execution_count": null,
   "metadata": {
    "id": "MbIRqv_XgUJZ"
   },
   "outputs": [],
   "source": [
    "## Escriba aqui el demo de uso del metodo filtered_tuples(R,cond)\n",
    "\n",
    "# SELECT * FROM T WHERE a=1"
   ]
  },
  {
   "cell_type": "code",
   "execution_count": null,
   "metadata": {
    "id": "WkQ1qmsdgOPw"
   },
   "outputs": [],
   "source": [
    "## Escriba aqui el demo de uso del metodo nested_loop_join(R,S)\n",
    "\n",
    "# nested_loop_join(R,T)\n",
    "\n",
    "# nested_loop_join(S,T)"
   ]
  },
  {
   "cell_type": "markdown",
   "metadata": {
    "id": "KLG-7ujHiOgf"
   },
   "source": [
    "# Bonus"
   ]
  },
  {
   "cell_type": "markdown",
   "metadata": {
    "id": "MDwrlQbuiS_2"
   },
   "source": [
    "**Bonus 1 [0.5 puntos]**\n",
    "\n",
    "Para todas las operaciones de join estamos suponemos que las relaciones son distintas. Esto ocurre por nuestra interfaz de la clase Relation, que maneja un objeto y un iterador a la vez.\n",
    "\n",
    "El primer bonus es implementar un metodo `get_iterator()` en la clase Relation, que nos devuelve un objeto con metodos `open()`, `next()`, `has_next()` y `close()`, y nos permite iterar independiente sobre las tuplas de la relación. En particular, si en nuestra implementación de `cross(R,S)` reemplazamos \n",
    "\n",
    "```\n",
    "    R = Relations[R]\n",
    "    S = Relations[S]\n",
    "```\n",
    "por\n",
    "\n",
    "```\n",
    "    R = Relations[R].get_iterator()\n",
    "    S = Relations[S].get_iterator()\n",
    "```\n",
    "\n",
    "\n",
    "\n",
    "**Bonus 2 [1.5 puntos]**\n",
    "\n",
    "El segundo bonus es implementar el algoritmo de `block_nested_loop_join(R,S)` usando el buffer. Para esto pueden ocupar todos los metodos y datos de la clase Buffer"
   ]
  },
  {
   "cell_type": "code",
   "execution_count": null,
   "metadata": {
    "id": "nXXI5ILBiQ0p"
   },
   "outputs": [],
   "source": [
    "## Escriba aqui un demo de uso del metodo get_iterator()"
   ]
  },
  {
   "cell_type": "code",
   "execution_count": null,
   "metadata": {
    "id": "mp2RAEDgi9m6"
   },
   "outputs": [],
   "source": [
    "## Escriba aqui un demo de uso del metodo block_nested_loop_join()"
   ]
  }
 ],
 "metadata": {
  "colab": {
   "name": "Actividad 2.ipynb",
   "provenance": [],
   "toc_visible": true
  },
  "kernelspec": {
   "display_name": "Python 3",
   "language": "python",
   "name": "python3"
  },
  "language_info": {
   "codemirror_mode": {
    "name": "ipython",
    "version": 3
   },
   "file_extension": ".py",
   "mimetype": "text/x-python",
   "name": "python",
   "nbconvert_exporter": "python",
   "pygments_lexer": "ipython3",
   "version": "3.6.9"
  }
 },
 "nbformat": 4,
 "nbformat_minor": 1
}
