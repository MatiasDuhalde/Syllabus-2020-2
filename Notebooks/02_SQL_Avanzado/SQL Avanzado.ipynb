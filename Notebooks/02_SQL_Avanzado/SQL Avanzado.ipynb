{
 "cells": [
  {
   "cell_type": "markdown",
   "metadata": {},
   "source": [
    "\n",
    "# Clase 4: SQL Avanzado"
   ]
  },
  {
   "cell_type": "markdown",
   "metadata": {},
   "source": [
    "### Introducción\n",
    "Durante esta clase vamos a aprender los conceptos avanzados de SQL. Vamos a aprender a anidar consultas, a hacer agregación y algunos comandos especiales.\n",
    "\n",
    "### Requisitos\n",
    "Para esta actividad, así como en las siguientes actividades de SQL vamos a utilizar\n",
    "\n",
    "- Python 3\n",
    "- Jupyter\n",
    "- La librería ipython-sql. Para instalarla pueden hacerlo con pip3:\n",
    "```\n",
    "pip3 install ipython-sql\n",
    "```\n",
    "- SQLite3, que viene junto con la instalación de Python\n",
    "\n",
    "### Outline\n",
    "\n",
    "En esta clase veremos:\n",
    "\n",
    "- Consultas anidadas\n",
    "    - Operadores `IN`, `ALL`, `ANY`, `EXISTS`\n",
    "    - Anidar tuplas\n",
    "- Agregación y agrupación\n",
    "    - `SUM`, `MAX`, `MIN`\n",
    "    - `GROUP BY`\n",
    "    - `HAVING`\n",
    "- `UPDATE`\n",
    "- `DELETE`\n",
    "\n",
    "### Agradecimientos\n",
    "\n",
    "Este _notebook_ fue escrito principalmente por la ayudante **María Ignacia Sánchez**."
   ]
  },
  {
   "cell_type": "markdown",
   "metadata": {},
   "source": [
    "### Consultas anidadas\n",
    "\n",
    "Ya conocemos la manera básica de realizar consultas,  ahora veremos como estas se pueden anidar para realizar consultas más complejas. Primero, cargamos sql, y nos conectamos a la base de datos. Armaremos la base de datos y trataremos de obtener los nombres de todas aquellas bandas cuyos integrantes tengan a alumnos de la UC __y__ toquen en el Lollapalooza:"
   ]
  },
  {
   "cell_type": "code",
   "execution_count": 1,
   "metadata": {},
   "outputs": [],
   "source": [
    "%load_ext sql\n",
    "%sql sqlite:///bdd_sql2.db"
   ]
  },
  {
   "cell_type": "code",
   "execution_count": 2,
   "metadata": {},
   "outputs": [
    {
     "name": "stdout",
     "output_type": "stream",
     "text": [
      " * sqlite:///bdd_sql2.db\n",
      "Done.\n",
      " * sqlite:///bdd_sql2.db\n",
      "Done.\n"
     ]
    },
    {
     "data": {
      "text/plain": [
       "[]"
      ]
     },
     "execution_count": 2,
     "metadata": {},
     "output_type": "execute_result"
    }
   ],
   "source": [
    "%sql DROP TABLE IF EXISTS bandas \n",
    "%sql CREATE TABLE bandas(nombre VARCHAR(10), vocalista VARCHAR(10))"
   ]
  },
  {
   "cell_type": "code",
   "execution_count": 3,
   "metadata": {},
   "outputs": [
    {
     "name": "stdout",
     "output_type": "stream",
     "text": [
      " * sqlite:///bdd_sql2.db\n",
      "1 rows affected.\n",
      " * sqlite:///bdd_sql2.db\n",
      "1 rows affected.\n",
      " * sqlite:///bdd_sql2.db\n",
      "1 rows affected.\n",
      " * sqlite:///bdd_sql2.db\n",
      "1 rows affected.\n"
     ]
    },
    {
     "data": {
      "text/plain": [
       "[]"
      ]
     },
     "execution_count": 3,
     "metadata": {},
     "output_type": "execute_result"
    }
   ],
   "source": [
    "%sql INSERT INTO bandas VALUES('IIC2413', 'Adrian Soto')\n",
    "%sql INSERT INTO bandas VALUES('3142CII', 'Naidrán Otos')\n",
    "%sql INSERT INTO bandas VALUES('Queen', 'Freddie Mercury')\n",
    "%sql INSERT INTO bandas VALUES('Arctic Monkeys', 'Alex Turner')"
   ]
  },
  {
   "cell_type": "code",
   "execution_count": 4,
   "metadata": {},
   "outputs": [
    {
     "name": "stdout",
     "output_type": "stream",
     "text": [
      " * sqlite:///bdd_sql2.db\n",
      "Done.\n"
     ]
    },
    {
     "data": {
      "text/html": [
       "<table>\n",
       "    <tr>\n",
       "        <th>nombre</th>\n",
       "        <th>vocalista</th>\n",
       "    </tr>\n",
       "    <tr>\n",
       "        <td>IIC2413</td>\n",
       "        <td>Adrian Soto</td>\n",
       "    </tr>\n",
       "    <tr>\n",
       "        <td>3142CII</td>\n",
       "        <td>Naidrán Otos</td>\n",
       "    </tr>\n",
       "    <tr>\n",
       "        <td>Queen</td>\n",
       "        <td>Freddie Mercury</td>\n",
       "    </tr>\n",
       "    <tr>\n",
       "        <td>Arctic Monkeys</td>\n",
       "        <td>Alex Turner</td>\n",
       "    </tr>\n",
       "</table>"
      ],
      "text/plain": [
       "[('IIC2413', 'Adrian Soto'),\n",
       " ('3142CII', 'Naidrán Otos'),\n",
       " ('Queen', 'Freddie Mercury'),\n",
       " ('Arctic Monkeys', 'Alex Turner')]"
      ]
     },
     "execution_count": 4,
     "metadata": {},
     "output_type": "execute_result"
    }
   ],
   "source": [
    "%sql SELECT * FROM bandas"
   ]
  },
  {
   "cell_type": "code",
   "execution_count": 5,
   "metadata": {},
   "outputs": [
    {
     "name": "stdout",
     "output_type": "stream",
     "text": [
      " * sqlite:///bdd_sql2.db\n",
      "Done.\n",
      " * sqlite:///bdd_sql2.db\n",
      "Done.\n",
      " * sqlite:///bdd_sql2.db\n",
      "1 rows affected.\n",
      " * sqlite:///bdd_sql2.db\n",
      "1 rows affected.\n",
      " * sqlite:///bdd_sql2.db\n",
      "1 rows affected.\n",
      " * sqlite:///bdd_sql2.db\n",
      "1 rows affected.\n",
      " * sqlite:///bdd_sql2.db\n",
      "1 rows affected.\n",
      " * sqlite:///bdd_sql2.db\n",
      "Done.\n"
     ]
    },
    {
     "data": {
      "text/html": [
       "<table>\n",
       "    <tr>\n",
       "        <th>nombre</th>\n",
       "        <th>banda</th>\n",
       "    </tr>\n",
       "    <tr>\n",
       "        <td>Lollapalooza</td>\n",
       "        <td>IIC2413</td>\n",
       "    </tr>\n",
       "    <tr>\n",
       "        <td>Lollapalooza</td>\n",
       "        <td>IIC2413</td>\n",
       "    </tr>\n",
       "    <tr>\n",
       "        <td>Lollapalooza</td>\n",
       "        <td>3142CII</td>\n",
       "    </tr>\n",
       "    <tr>\n",
       "        <td>Lollapalooza</td>\n",
       "        <td>Arctic Monkeys</td>\n",
       "    </tr>\n",
       "    <tr>\n",
       "        <td>Festival de Viña</td>\n",
       "        <td>Queen</td>\n",
       "    </tr>\n",
       "</table>"
      ],
      "text/plain": [
       "[('Lollapalooza', 'IIC2413'),\n",
       " ('Lollapalooza', 'IIC2413'),\n",
       " ('Lollapalooza', '3142CII'),\n",
       " ('Lollapalooza', 'Arctic Monkeys'),\n",
       " ('Festival de Viña', 'Queen')]"
      ]
     },
     "execution_count": 5,
     "metadata": {},
     "output_type": "execute_result"
    }
   ],
   "source": [
    "%sql DROP TABLE IF EXISTS festivales \n",
    "%sql CREATE TABLE festivales(nombre VARCHAR(10), banda VARCHAR(10))\n",
    "%sql INSERT INTO festivales VALUES('Lollapalooza', 'IIC2413')\n",
    "%sql INSERT INTO festivales VALUES('Lollapalooza', 'IIC2413')\n",
    "%sql INSERT INTO festivales VALUES('Lollapalooza', '3142CII')\n",
    "%sql INSERT INTO festivales VALUES('Lollapalooza', 'Arctic Monkeys')\n",
    "%sql INSERT INTO festivales VALUES('Festival de Viña', 'Queen')\n",
    "%sql SELECT * FROM festivales\n"
   ]
  },
  {
   "cell_type": "markdown",
   "metadata": {},
   "source": [
    "__Ojo:__ Notemos que tenemos un duplicado en esta tabla."
   ]
  },
  {
   "cell_type": "code",
   "execution_count": 6,
   "metadata": {},
   "outputs": [
    {
     "name": "stdout",
     "output_type": "stream",
     "text": [
      " * sqlite:///bdd_sql2.db\n",
      "Done.\n",
      " * sqlite:///bdd_sql2.db\n",
      "Done.\n",
      " * sqlite:///bdd_sql2.db\n",
      "1 rows affected.\n",
      " * sqlite:///bdd_sql2.db\n",
      "1 rows affected.\n",
      " * sqlite:///bdd_sql2.db\n",
      "1 rows affected.\n",
      " * sqlite:///bdd_sql2.db\n",
      "1 rows affected.\n",
      " * sqlite:///bdd_sql2.db\n",
      "Done.\n"
     ]
    },
    {
     "data": {
      "text/html": [
       "<table>\n",
       "    <tr>\n",
       "        <th>numero_alumno</th>\n",
       "        <th>nombre</th>\n",
       "    </tr>\n",
       "    <tr>\n",
       "        <td>1234567</td>\n",
       "        <td>Adrian Soto</td>\n",
       "    </tr>\n",
       "    <tr>\n",
       "        <td>7654321</td>\n",
       "        <td>Naidrán Otos</td>\n",
       "    </tr>\n",
       "    <tr>\n",
       "        <td>1111111</td>\n",
       "        <td>Isidora Vizcaya</td>\n",
       "    </tr>\n",
       "    <tr>\n",
       "        <td>2222222</td>\n",
       "        <td>Ash Ketchum</td>\n",
       "    </tr>\n",
       "</table>"
      ],
      "text/plain": [
       "[(1234567, 'Adrian Soto'),\n",
       " (7654321, 'Naidrán Otos'),\n",
       " (1111111, 'Isidora Vizcaya'),\n",
       " (2222222, 'Ash Ketchum')]"
      ]
     },
     "execution_count": 6,
     "metadata": {},
     "output_type": "execute_result"
    }
   ],
   "source": [
    "%sql DROP TABLE IF EXISTS estudiantes_uc  \n",
    "%sql CREATE TABLE estudiantes_uc(numero_alumno INT, nombre VARCHAR(50))\n",
    "%sql INSERT INTO estudiantes_uc VALUES(1234567, 'Adrian Soto')\n",
    "%sql INSERT INTO estudiantes_uc VALUES(7654321, 'Naidrán Otos')\n",
    "%sql INSERT INTO estudiantes_uc VALUES(1111111, 'Isidora Vizcaya')\n",
    "%sql INSERT INTO estudiantes_uc VALUES(2222222, 'Ash Ketchum')\n",
    "\n",
    "%sql SELECT * FROM estudiantes_uc\n"
   ]
  },
  {
   "cell_type": "code",
   "execution_count": 7,
   "metadata": {},
   "outputs": [
    {
     "name": "stdout",
     "output_type": "stream",
     "text": [
      " * sqlite:///bdd_sql2.db\n",
      "Done.\n"
     ]
    },
    {
     "data": {
      "text/html": [
       "<table>\n",
       "    <tr>\n",
       "        <th>nombre</th>\n",
       "    </tr>\n",
       "    <tr>\n",
       "        <td>IIC2413</td>\n",
       "    </tr>\n",
       "</table>"
      ],
      "text/plain": [
       "[('IIC2413',)]"
      ]
     },
     "execution_count": 7,
     "metadata": {},
     "output_type": "execute_result"
    }
   ],
   "source": [
    "%%sql \n",
    "SELECT bandas.nombre\n",
    "FROM bandas, estudiantes_uc\n",
    "WHERE bandas.vocalista = estudiantes_uc.nombre \n",
    "AND bandas.nombre = \n",
    "    (SELECT festivales.banda\n",
    "     FROM festivales\n",
    "     WHERE festivales.nombre = 'Lollapalooza')"
   ]
  },
  {
   "cell_type": "markdown",
   "metadata": {},
   "source": [
    "Sin embargo, esta consulta debería retornar más de una banda. ¿Que pasó?\n",
    "**Hint**: Estamos comparando con igualdad algo que es una colección de valores.\n",
    "\n",
    "### Operador IN"
   ]
  },
  {
   "cell_type": "code",
   "execution_count": 8,
   "metadata": {},
   "outputs": [
    {
     "name": "stdout",
     "output_type": "stream",
     "text": [
      " * sqlite:///bdd_sql2.db\n",
      "Done.\n"
     ]
    },
    {
     "data": {
      "text/html": [
       "<table>\n",
       "    <tr>\n",
       "        <th>nombre</th>\n",
       "    </tr>\n",
       "    <tr>\n",
       "        <td>IIC2413</td>\n",
       "    </tr>\n",
       "    <tr>\n",
       "        <td>3142CII</td>\n",
       "    </tr>\n",
       "</table>"
      ],
      "text/plain": [
       "[('IIC2413',), ('3142CII',)]"
      ]
     },
     "execution_count": 8,
     "metadata": {},
     "output_type": "execute_result"
    }
   ],
   "source": [
    "%%sql\n",
    "SELECT bandas.nombre\n",
    "FROM bandas, estudiantes_uc\n",
    "WHERE bandas.vocalista = estudiantes_uc.nombre \n",
    "AND bandas.nombre IN \n",
    "    (SELECT festivales.banda\n",
    "     FROM festivales\n",
    "     WHERE festivales.nombre = 'Lollapalooza')"
   ]
  },
  {
   "cell_type": "markdown",
   "metadata": {},
   "source": [
    "Aquí bandas.nombre está dentro de un listado de valores. ¿Qué pasa si quitamos la anidación?"
   ]
  },
  {
   "cell_type": "code",
   "execution_count": 9,
   "metadata": {},
   "outputs": [
    {
     "name": "stdout",
     "output_type": "stream",
     "text": [
      " * sqlite:///bdd_sql2.db\n",
      "Done.\n"
     ]
    },
    {
     "data": {
      "text/html": [
       "<table>\n",
       "    <tr>\n",
       "        <th>nombre</th>\n",
       "    </tr>\n",
       "    <tr>\n",
       "        <td>IIC2413</td>\n",
       "    </tr>\n",
       "    <tr>\n",
       "        <td>IIC2413</td>\n",
       "    </tr>\n",
       "    <tr>\n",
       "        <td>3142CII</td>\n",
       "    </tr>\n",
       "</table>"
      ],
      "text/plain": [
       "[('IIC2413',), ('IIC2413',), ('3142CII',)]"
      ]
     },
     "execution_count": 9,
     "metadata": {},
     "output_type": "execute_result"
    }
   ],
   "source": [
    "%%sql \n",
    "SELECT bandas.nombre\n",
    "FROM bandas, estudiantes_uc, festivales\n",
    "WHERE bandas.vocalista = estudiantes_uc.nombre \n",
    "    AND bandas.nombre = festivales.banda\n",
    "    AND festivales.nombre = 'Lollapalooza' "
   ]
  },
  {
   "cell_type": "markdown",
   "metadata": {},
   "source": [
    "¿Por qué no es equivalente a la consulta anterior? \n",
    "\n",
    "__Hint:__ ¡Cuidado con los duplicados! :O\n",
    "\n",
    "En el caso de subconsulta con duplicados, esta consulta:"
   ]
  },
  {
   "cell_type": "code",
   "execution_count": 10,
   "metadata": {},
   "outputs": [
    {
     "name": "stdout",
     "output_type": "stream",
     "text": [
      " * sqlite:///bdd_sql2.db\n",
      "Done.\n"
     ]
    },
    {
     "data": {
      "text/html": [
       "<table>\n",
       "    <tr>\n",
       "        <th>nombre</th>\n",
       "    </tr>\n",
       "    <tr>\n",
       "        <td>IIC2413</td>\n",
       "    </tr>\n",
       "    <tr>\n",
       "        <td>3142CII</td>\n",
       "    </tr>\n",
       "</table>"
      ],
      "text/plain": [
       "[('IIC2413',), ('3142CII',)]"
      ]
     },
     "execution_count": 10,
     "metadata": {},
     "output_type": "execute_result"
    }
   ],
   "source": [
    "%%sql\n",
    "SELECT bandas.nombre\n",
    "FROM bandas, estudiantes_uc\n",
    "WHERE bandas.vocalista = estudiantes_uc.nombre \n",
    "AND bandas.nombre IN \n",
    "    (SELECT festivales.banda\n",
    "     FROM festivales\n",
    "     WHERE festivales.nombre = 'Lollapalooza')"
   ]
  },
  {
   "cell_type": "markdown",
   "metadata": {},
   "source": [
    "Es equivalente a  la siguiente consulta, que utiliza `SELECT DISTINCT`:"
   ]
  },
  {
   "cell_type": "code",
   "execution_count": 11,
   "metadata": {},
   "outputs": [
    {
     "name": "stdout",
     "output_type": "stream",
     "text": [
      " * sqlite:///bdd_sql2.db\n",
      "Done.\n"
     ]
    },
    {
     "data": {
      "text/html": [
       "<table>\n",
       "    <tr>\n",
       "        <th>nombre</th>\n",
       "    </tr>\n",
       "    <tr>\n",
       "        <td>IIC2413</td>\n",
       "    </tr>\n",
       "    <tr>\n",
       "        <td>3142CII</td>\n",
       "    </tr>\n",
       "</table>"
      ],
      "text/plain": [
       "[('IIC2413',), ('3142CII',)]"
      ]
     },
     "execution_count": 11,
     "metadata": {},
     "output_type": "execute_result"
    }
   ],
   "source": [
    "%%sql \n",
    "SELECT DISTINCT bandas.nombre\n",
    "FROM bandas, estudiantes_uc, festivales\n",
    "WHERE bandas.vocalista = estudiantes_uc.nombre \n",
    "    AND bandas.nombre = festivales.banda\n",
    "    AND festivales.nombre = 'Lollapalooza' "
   ]
  },
  {
   "cell_type": "markdown",
   "metadata": {},
   "source": [
    "Recordemos que `SELECT DISTINCT` elimina los elementos de la tabla que están duplicados, y sólo entrega valores distintos."
   ]
  },
  {
   "cell_type": "markdown",
   "metadata": {},
   "source": [
    "### Operadores ALL y ANY \n",
    "__Ojo: Estos no existen en SQLite, pero funcionan con PSQL.__\n",
    "\n",
    "Para ver qué hacen estos operadores, crearemos otras relaciones:"
   ]
  },
  {
   "cell_type": "code",
   "execution_count": 12,
   "metadata": {},
   "outputs": [
    {
     "name": "stdout",
     "output_type": "stream",
     "text": [
      " * sqlite:///bdd_sql2.db\n",
      "Done.\n",
      " * sqlite:///bdd_sql2.db\n",
      "Done.\n",
      " * sqlite:///bdd_sql2.db\n",
      "Done.\n",
      " * sqlite:///bdd_sql2.db\n",
      "Done.\n"
     ]
    },
    {
     "data": {
      "text/plain": [
       "[]"
      ]
     },
     "execution_count": 12,
     "metadata": {},
     "output_type": "execute_result"
    }
   ],
   "source": [
    "%sql DROP TABLE IF EXISTS cervezas\n",
    "%sql DROP TABLE IF EXISTS distribuidores\n",
    "%sql CREATE TABLE cervezas(nombre VARCHAR(20), precio INT, id_distribuidor INT)\n",
    "%sql CREATE TABLE distribuidores(id INT, nombre VARCHAR(20))"
   ]
  },
  {
   "cell_type": "code",
   "execution_count": 13,
   "metadata": {},
   "outputs": [
    {
     "name": "stdout",
     "output_type": "stream",
     "text": [
      " * sqlite:///bdd_sql2.db\n",
      "1 rows affected.\n",
      " * sqlite:///bdd_sql2.db\n",
      "1 rows affected.\n",
      " * sqlite:///bdd_sql2.db\n",
      "1 rows affected.\n",
      " * sqlite:///bdd_sql2.db\n",
      "1 rows affected.\n",
      " * sqlite:///bdd_sql2.db\n",
      "1 rows affected.\n",
      " * sqlite:///bdd_sql2.db\n",
      "1 rows affected.\n",
      " * sqlite:///bdd_sql2.db\n",
      "1 rows affected.\n",
      " * sqlite:///bdd_sql2.db\n",
      "1 rows affected.\n",
      " * sqlite:///bdd_sql2.db\n",
      "1 rows affected.\n"
     ]
    },
    {
     "data": {
      "text/plain": [
       "[]"
      ]
     },
     "execution_count": 13,
     "metadata": {},
     "output_type": "execute_result"
    }
   ],
   "source": [
    "%sql INSERT INTO cervezas VALUES('Quimera', 1190, 0)\n",
    "%sql INSERT INTO cervezas VALUES('Volcanes del Sur', 1190, 0)\n",
    "%sql INSERT INTO cervezas VALUES('Mahou', 890, 1)\n",
    "%sql INSERT INTO cervezas VALUES('Báltica', 90, 2)\n",
    "%sql INSERT INTO cervezas VALUES('BDD', 70, 1)\n",
    "%sql INSERT INTO cervezas VALUES('Austral', 1000, 2)\n",
    "\n",
    "%sql INSERT INTO distribuidores VALUES(0, 'Distribuidora SQLite')\n",
    "%sql INSERT INTO distribuidores VALUES(1, 'Distribuidora PSQL')\n",
    "%sql INSERT INTO distribuidores VALUES(2, 'Distribuidora MySQL')"
   ]
  },
  {
   "cell_type": "code",
   "execution_count": 14,
   "metadata": {},
   "outputs": [
    {
     "name": "stdout",
     "output_type": "stream",
     "text": [
      " * sqlite:///bdd_sql2.db\n",
      "Done.\n"
     ]
    },
    {
     "data": {
      "text/html": [
       "<table>\n",
       "    <tr>\n",
       "        <th>nombre</th>\n",
       "        <th>precio</th>\n",
       "        <th>id_distribuidor</th>\n",
       "    </tr>\n",
       "    <tr>\n",
       "        <td>Quimera</td>\n",
       "        <td>1190</td>\n",
       "        <td>0</td>\n",
       "    </tr>\n",
       "    <tr>\n",
       "        <td>Volcanes del Sur</td>\n",
       "        <td>1190</td>\n",
       "        <td>0</td>\n",
       "    </tr>\n",
       "    <tr>\n",
       "        <td>Mahou</td>\n",
       "        <td>890</td>\n",
       "        <td>1</td>\n",
       "    </tr>\n",
       "    <tr>\n",
       "        <td>Báltica</td>\n",
       "        <td>90</td>\n",
       "        <td>2</td>\n",
       "    </tr>\n",
       "    <tr>\n",
       "        <td>BDD</td>\n",
       "        <td>70</td>\n",
       "        <td>1</td>\n",
       "    </tr>\n",
       "    <tr>\n",
       "        <td>Austral</td>\n",
       "        <td>1000</td>\n",
       "        <td>2</td>\n",
       "    </tr>\n",
       "</table>"
      ],
      "text/plain": [
       "[('Quimera', 1190, 0),\n",
       " ('Volcanes del Sur', 1190, 0),\n",
       " ('Mahou', 890, 1),\n",
       " ('Báltica', 90, 2),\n",
       " ('BDD', 70, 1),\n",
       " ('Austral', 1000, 2)]"
      ]
     },
     "execution_count": 14,
     "metadata": {},
     "output_type": "execute_result"
    }
   ],
   "source": [
    "%sql SELECT * FROM Cervezas"
   ]
  },
  {
   "cell_type": "code",
   "execution_count": 15,
   "metadata": {},
   "outputs": [
    {
     "name": "stdout",
     "output_type": "stream",
     "text": [
      " * sqlite:///bdd_sql2.db\n",
      "Done.\n"
     ]
    },
    {
     "data": {
      "text/html": [
       "<table>\n",
       "    <tr>\n",
       "        <th>id</th>\n",
       "        <th>nombre</th>\n",
       "    </tr>\n",
       "    <tr>\n",
       "        <td>0</td>\n",
       "        <td>Distribuidora SQLite</td>\n",
       "    </tr>\n",
       "    <tr>\n",
       "        <td>1</td>\n",
       "        <td>Distribuidora PSQL</td>\n",
       "    </tr>\n",
       "    <tr>\n",
       "        <td>2</td>\n",
       "        <td>Distribuidora MySQL</td>\n",
       "    </tr>\n",
       "</table>"
      ],
      "text/plain": [
       "[(0, 'Distribuidora SQLite'),\n",
       " (1, 'Distribuidora PSQL'),\n",
       " (2, 'Distribuidora MySQL')]"
      ]
     },
     "execution_count": 15,
     "metadata": {},
     "output_type": "execute_result"
    }
   ],
   "source": [
    "%sql SELECT * FROM distribuidores"
   ]
  },
  {
   "cell_type": "markdown",
   "metadata": {},
   "source": [
    "Luego, las cervezas más baratas que la Austral serán:"
   ]
  },
  {
   "cell_type": "markdown",
   "metadata": {},
   "source": [
    "```SQL\n",
    "SELECT cervezas.nombre\n",
    "FROM cervezas\n",
    "WHERE cervezas.precio < ALL\n",
    "        (SELECT c2.precio\n",
    "         FROM cervezas as c2\n",
    "         WHERE c2.nombre = 'Austral')\n",
    "```"
   ]
  },
  {
   "cell_type": "markdown",
   "metadata": {},
   "source": [
    "La cerveza que no sea la más cara será:"
   ]
  },
  {
   "cell_type": "markdown",
   "metadata": {},
   "source": [
    "```SQL\n",
    "SELECT cervezas.nombre\n",
    "FROM cervezas\n",
    "WHERE cervezas.precio < ANY\n",
    "        (SELECT c2.precio\n",
    "         FROM cervezas AS c2)\n",
    "```"
   ]
  },
  {
   "cell_type": "markdown",
   "metadata": {},
   "source": [
    "Ahora, ¿podemos expresar estas consultas __solo utilizando `SELECT`, `FROM`, `WHERE` (SFW)__?\n",
    "\n",
    "__HINT:__ Las consultas SFW son __monótonas__. Una consulta con ALL no es monótona. Una consulta con ANY, lo es.\n",
    "\n",
    "\n",
    "### Anidando consultas relacionadas\n",
    "\n",
    "Supongamos que tenemos una relación de la forma peliculas(título, año, director), y queremos sacar los títulos de las películas que se repiten en años diferentes:"
   ]
  },
  {
   "cell_type": "markdown",
   "metadata": {},
   "source": [
    "```SQL\n",
    "SELECT p.titulo\n",
    "FROM peliculas AS p \n",
    "WHERE AÑO <> ANY\n",
    "    (SELECT año\n",
    "     FROM peliculas\n",
    "     WHERE titulo = p.titulo)\n",
    "```"
   ]
  },
  {
   "cell_type": "markdown",
   "metadata": {},
   "source": [
    "¡__p__ sigue activa a medida que se anidan las consultas!\n",
    "\n",
    "### Operador EXISTS\n",
    "\n",
    "(Este operador si funciona en sqlite, por lo que ocuparemos la relacion _cervezas_ que definimos más arriba)\n",
    "\n",
    "Obtendremos los distribuidores con cervezas más baratas de $100:\n",
    "\n"
   ]
  },
  {
   "cell_type": "code",
   "execution_count": 16,
   "metadata": {},
   "outputs": [
    {
     "name": "stdout",
     "output_type": "stream",
     "text": [
      " * sqlite:///bdd_sql2.db\n",
      "Done.\n"
     ]
    },
    {
     "data": {
      "text/html": [
       "<table>\n",
       "    <tr>\n",
       "        <th>nombre</th>\n",
       "    </tr>\n",
       "    <tr>\n",
       "        <td>Distribuidora PSQL</td>\n",
       "    </tr>\n",
       "    <tr>\n",
       "        <td>Distribuidora MySQL</td>\n",
       "    </tr>\n",
       "</table>"
      ],
      "text/plain": [
       "[('Distribuidora PSQL',), ('Distribuidora MySQL',)]"
      ]
     },
     "execution_count": 16,
     "metadata": {},
     "output_type": "execute_result"
    }
   ],
   "source": [
    "%%sql\n",
    "SELECT D.nombre\n",
    "FROM distribuidores AS D\n",
    "WHERE EXISTS\n",
    "    (SELECT cervezas.nombre\n",
    "     FROM cervezas\n",
    "     WHERE cervezas.id_distribuidor = D.id \n",
    "           AND cervezas.precio < 100)"
   ]
  },
  {
   "cell_type": "markdown",
   "metadata": {},
   "source": [
    "¡Es importante no olvidar el alias para no perder la referencia!\n",
    "### Anidar tuplas\n",
    "\n"
   ]
  },
  {
   "cell_type": "code",
   "execution_count": 17,
   "metadata": {},
   "outputs": [
    {
     "name": "stdout",
     "output_type": "stream",
     "text": [
      " * sqlite:///bdd_sql2.db\n",
      "Done.\n",
      " * sqlite:///bdd_sql2.db\n",
      "Done.\n",
      " * sqlite:///bdd_sql2.db\n",
      "1 rows affected.\n",
      " * sqlite:///bdd_sql2.db\n",
      "1 rows affected.\n",
      " * sqlite:///bdd_sql2.db\n",
      "1 rows affected.\n",
      " * sqlite:///bdd_sql2.db\n",
      "Done.\n"
     ]
    },
    {
     "data": {
      "text/html": [
       "<table>\n",
       "    <tr>\n",
       "        <th>titulo</th>\n",
       "        <th>año</th>\n",
       "        <th>director</th>\n",
       "        <th>cine</th>\n",
       "    </tr>\n",
       "    <tr>\n",
       "        <td>Titanic</td>\n",
       "        <td>1997</td>\n",
       "        <td>James Cameron</td>\n",
       "        <td>cineplanet</td>\n",
       "    </tr>\n",
       "    <tr>\n",
       "        <td>El padrino</td>\n",
       "        <td>1990</td>\n",
       "        <td>Francis Ford Coppola</td>\n",
       "        <td>cinemark</td>\n",
       "    </tr>\n",
       "    <tr>\n",
       "        <td>Coco</td>\n",
       "        <td>2017</td>\n",
       "        <td>Lee Unkrich</td>\n",
       "        <td>cinemark</td>\n",
       "    </tr>\n",
       "</table>"
      ],
      "text/plain": [
       "[('Titanic', 1997, 'James Cameron', 'cineplanet'),\n",
       " ('El padrino', 1990, 'Francis Ford Coppola', 'cinemark'),\n",
       " ('Coco', 2017, 'Lee Unkrich', 'cinemark')]"
      ]
     },
     "execution_count": 17,
     "metadata": {},
     "output_type": "execute_result"
    }
   ],
   "source": [
    "%sql DROP TABLE IF EXISTS peliculas\n",
    "%sql CREATE TABLE peliculas(titulo VARCHAR(20), año INT, director VARCAHAR(20), cine VARCHAR(20))\n",
    "\n",
    "%sql INSERT INTO peliculas VALUES('Titanic', 1997, 'James Cameron', 'cineplanet')\n",
    "%sql INSERT INTO peliculas VALUES('El padrino', 1990, 'Francis Ford Coppola', 'cinemark')\n",
    "%sql INSERT INTO peliculas VALUES('Coco', 2017, 'Lee Unkrich', 'cinemark')\n",
    "%sql SELECT * FROM peliculas"
   ]
  },
  {
   "cell_type": "code",
   "execution_count": 19,
   "metadata": {},
   "outputs": [
    {
     "name": "stdout",
     "output_type": "stream",
     "text": [
      " * sqlite:///bdd_sql2.db\n",
      "Done.\n"
     ]
    },
    {
     "data": {
      "text/html": [
       "<table>\n",
       "    <tr>\n",
       "        <th>titulo</th>\n",
       "    </tr>\n",
       "    <tr>\n",
       "        <td>El padrino</td>\n",
       "    </tr>\n",
       "    <tr>\n",
       "        <td>Coco</td>\n",
       "    </tr>\n",
       "</table>"
      ],
      "text/plain": [
       "[('El padrino',), ('Coco',)]"
      ]
     },
     "execution_count": 19,
     "metadata": {},
     "output_type": "execute_result"
    }
   ],
   "source": [
    "%%sql\n",
    "SELECT titulo\n",
    "FROM peliculas\n",
    "WHERE (titulo, año) IN (SELECT titulo, año \n",
    "                        FROM peliculas\n",
    "                        WHERE cine = 'cinemark')"
   ]
  },
  {
   "cell_type": "markdown",
   "metadata": {},
   "source": [
    "__Ojo__: esto no funciona en todos los sistemas!\n",
    "\n",
    "\n",
    "Ahora seleccionaremos los productos, junto a sus fabricantes, que son más caros que todos los productos hechos por el mismo fabricante antes del 2019. Consideremos la siguiente relación:"
   ]
  },
  {
   "cell_type": "code",
   "execution_count": 20,
   "metadata": {},
   "outputs": [
    {
     "name": "stdout",
     "output_type": "stream",
     "text": [
      " * sqlite:///bdd_sql2.db\n",
      "Done.\n",
      " * sqlite:///bdd_sql2.db\n",
      "Done.\n",
      " * sqlite:///bdd_sql2.db\n",
      "1 rows affected.\n",
      " * sqlite:///bdd_sql2.db\n",
      "1 rows affected.\n",
      " * sqlite:///bdd_sql2.db\n",
      "1 rows affected.\n",
      " * sqlite:///bdd_sql2.db\n",
      "1 rows affected.\n",
      " * sqlite:///bdd_sql2.db\n",
      "1 rows affected.\n",
      " * sqlite:///bdd_sql2.db\n",
      "Done.\n"
     ]
    },
    {
     "data": {
      "text/html": [
       "<table>\n",
       "    <tr>\n",
       "        <th>nombre</th>\n",
       "        <th>precio</th>\n",
       "        <th>categoria</th>\n",
       "        <th>fabricante</th>\n",
       "        <th>año_fabricacion</th>\n",
       "    </tr>\n",
       "    <tr>\n",
       "        <td>Yogurt Frutilla 225ml</td>\n",
       "        <td>690</td>\n",
       "        <td>Lácteo</td>\n",
       "        <td>Nestlé</td>\n",
       "        <td>2018</td>\n",
       "    </tr>\n",
       "    <tr>\n",
       "        <td>Yogurt Frutilla 1L</td>\n",
       "        <td>990</td>\n",
       "        <td>Lácteo</td>\n",
       "        <td>Nestlé</td>\n",
       "        <td>2018</td>\n",
       "    </tr>\n",
       "    <tr>\n",
       "        <td>Manjar 500ml</td>\n",
       "        <td>450</td>\n",
       "        <td>Lácteo</td>\n",
       "        <td>Nestlé</td>\n",
       "        <td>2019</td>\n",
       "    </tr>\n",
       "    <tr>\n",
       "        <td>Manjar 500ml</td>\n",
       "        <td>1290</td>\n",
       "        <td>Lácteo</td>\n",
       "        <td>Nestlé</td>\n",
       "        <td>2019</td>\n",
       "    </tr>\n",
       "    <tr>\n",
       "        <td>Manjar 500ml</td>\n",
       "        <td>1500</td>\n",
       "        <td>Lácteo</td>\n",
       "        <td>Colún</td>\n",
       "        <td>2019</td>\n",
       "    </tr>\n",
       "</table>"
      ],
      "text/plain": [
       "[('Yogurt Frutilla 225ml', 690, 'Lácteo', 'Nestlé', 2018),\n",
       " ('Yogurt Frutilla 1L', 990, 'Lácteo', 'Nestlé', 2018),\n",
       " ('Manjar 500ml', 450, 'Lácteo', 'Nestlé', 2019),\n",
       " ('Manjar 500ml', 1290, 'Lácteo', 'Nestlé', 2019),\n",
       " ('Manjar 500ml', 1500, 'Lácteo', 'Colún', 2019)]"
      ]
     },
     "execution_count": 20,
     "metadata": {},
     "output_type": "execute_result"
    }
   ],
   "source": [
    "%sql DROP TABLE IF EXISTS productos\n",
    "%sql CREATE TABLE productos(nombre VARCHAR(20), precio INT, categoria VARCHAR(20), fabricante VARCHAR(20), año_fabricacion INT)\n",
    "\n",
    "%sql INSERT INTO productos VALUES('Yogurt Frutilla 225ml', 690, 'Lácteo', 'Nestlé', 2018)\n",
    "%sql INSERT INTO productos VALUES('Yogurt Frutilla 1L', 990, 'Lácteo', 'Nestlé', 2018)\n",
    "%sql INSERT INTO productos VALUES('Manjar 500ml', 450, 'Lácteo', 'Nestlé', 2019)\n",
    "%sql INSERT INTO productos VALUES('Manjar 500ml', 1290, 'Lácteo', 'Nestlé', 2019)\n",
    "%sql INSERT INTO productos VALUES('Manjar 500ml', 1500, 'Lácteo', 'Colún', 2019)\n",
    "%sql SELECT * FROM productos\n"
   ]
  },
  {
   "cell_type": "markdown",
   "metadata": {},
   "source": [
    "```SQL\n",
    "SELECT DISTINCT p.nombre, p.fabricante\n",
    "FROM productos as p \n",
    "WHERE p.precio > ALL (SELECT p2.precio \n",
    "                      FROM productos as p2\n",
    "                      WHERE p.fabricante = p2.fabricante \n",
    "                            AND p2.año_fabricacion < 2019)\n",
    "```"
   ]
  },
  {
   "cell_type": "markdown",
   "metadata": {},
   "source": [
    "### Agregación \n",
    "¿Qué hace esta consulta?\n"
   ]
  },
  {
   "cell_type": "code",
   "execution_count": 21,
   "metadata": {},
   "outputs": [
    {
     "name": "stdout",
     "output_type": "stream",
     "text": [
      " * sqlite:///bdd_sql2.db\n",
      "Done.\n"
     ]
    },
    {
     "data": {
      "text/html": [
       "<table>\n",
       "    <tr>\n",
       "        <th>AVG(precio)</th>\n",
       "    </tr>\n",
       "    <tr>\n",
       "        <td>855.0</td>\n",
       "    </tr>\n",
       "</table>"
      ],
      "text/plain": [
       "[(855.0,)]"
      ]
     },
     "execution_count": 21,
     "metadata": {},
     "output_type": "execute_result"
    }
   ],
   "source": [
    "%%sql\n",
    "SELECT AVG(precio)\n",
    "FROM productos\n",
    "WHERE fabricante = 'Nestlé'"
   ]
  },
  {
   "cell_type": "markdown",
   "metadata": {},
   "source": [
    "También podemos usar `SUM`, `MIN` y `MAX` y usar __operaciones aritméticas__:"
   ]
  },
  {
   "cell_type": "code",
   "execution_count": 22,
   "metadata": {},
   "outputs": [
    {
     "name": "stdout",
     "output_type": "stream",
     "text": [
      " * sqlite:///bdd_sql2.db\n",
      "Done.\n",
      " * sqlite:///bdd_sql2.db\n",
      "Done.\n",
      " * sqlite:///bdd_sql2.db\n",
      "1 rows affected.\n",
      " * sqlite:///bdd_sql2.db\n",
      "1 rows affected.\n",
      " * sqlite:///bdd_sql2.db\n",
      "1 rows affected.\n",
      " * sqlite:///bdd_sql2.db\n",
      "1 rows affected.\n",
      " * sqlite:///bdd_sql2.db\n",
      "Done.\n"
     ]
    },
    {
     "data": {
      "text/html": [
       "<table>\n",
       "    <tr>\n",
       "        <th>producto</th>\n",
       "        <th>fecha</th>\n",
       "        <th>precio</th>\n",
       "        <th>cantidad</th>\n",
       "    </tr>\n",
       "    <tr>\n",
       "        <td>Leche</td>\n",
       "        <td>01-02-2019</td>\n",
       "        <td>890</td>\n",
       "        <td>4</td>\n",
       "    </tr>\n",
       "    <tr>\n",
       "        <td>Chocapic</td>\n",
       "        <td>01-02-2019</td>\n",
       "        <td>1290</td>\n",
       "        <td>2</td>\n",
       "    </tr>\n",
       "    <tr>\n",
       "        <td>Queso</td>\n",
       "        <td>01-02-2019</td>\n",
       "        <td>990</td>\n",
       "        <td>1</td>\n",
       "    </tr>\n",
       "    <tr>\n",
       "        <td>Pan</td>\n",
       "        <td>01-02-2019</td>\n",
       "        <td>1190</td>\n",
       "        <td>1</td>\n",
       "    </tr>\n",
       "</table>"
      ],
      "text/plain": [
       "[('Leche', '01-02-2019', 890, 4),\n",
       " ('Chocapic', '01-02-2019', 1290, 2),\n",
       " ('Queso', '01-02-2019', 990, 1),\n",
       " ('Pan', '01-02-2019', 1190, 1)]"
      ]
     },
     "execution_count": 22,
     "metadata": {},
     "output_type": "execute_result"
    }
   ],
   "source": [
    "%sql DROP TABLE IF EXISTS compra\n",
    "%sql CREATE TABLE compra(producto VARCHAR(20), fecha VARCHAR(20), precio INT, cantidad INT)\n",
    "%sql INSERT INTO compra VALUES('Leche', '01-02-2019', 890, 4)\n",
    "%sql INSERT INTO compra VALUES('Chocapic', '01-02-2019', 1290, 2)\n",
    "%sql INSERT INTO compra VALUES('Queso' , '01-02-2019', 990, 1)\n",
    "%sql INSERT INTO compra VALUES('Pan' , '01-02-2019', 1190, 1)\n",
    "%sql SELECT * FROM compra"
   ]
  },
  {
   "cell_type": "markdown",
   "metadata": {},
   "source": [
    "### Suma"
   ]
  },
  {
   "cell_type": "code",
   "execution_count": 23,
   "metadata": {},
   "outputs": [
    {
     "name": "stdout",
     "output_type": "stream",
     "text": [
      " * sqlite:///bdd_sql2.db\n",
      "Done.\n"
     ]
    },
    {
     "data": {
      "text/html": [
       "<table>\n",
       "    <tr>\n",
       "        <th>SUM(precio*cantidad)</th>\n",
       "    </tr>\n",
       "    <tr>\n",
       "        <td>3560</td>\n",
       "    </tr>\n",
       "</table>"
      ],
      "text/plain": [
       "[(3560,)]"
      ]
     },
     "execution_count": 23,
     "metadata": {},
     "output_type": "execute_result"
    }
   ],
   "source": [
    "%%sql\n",
    "SELECT SUM(precio*cantidad)\n",
    "FROM compra\n",
    "WHERE producto = 'Leche'"
   ]
  },
  {
   "cell_type": "markdown",
   "metadata": {},
   "source": [
    "### Contar tuplas:\n",
    "El comano __COUNT__ cuenta las tuplas. __OJO:__ Se cuentan los duplicados!"
   ]
  },
  {
   "cell_type": "code",
   "execution_count": 24,
   "metadata": {},
   "outputs": [
    {
     "name": "stdout",
     "output_type": "stream",
     "text": [
      " * sqlite:///bdd_sql2.db\n",
      "Done.\n"
     ]
    },
    {
     "data": {
      "text/html": [
       "<table>\n",
       "    <tr>\n",
       "        <th>cuenta_total</th>\n",
       "    </tr>\n",
       "    <tr>\n",
       "        <td>3</td>\n",
       "    </tr>\n",
       "</table>"
      ],
      "text/plain": [
       "[(3,)]"
      ]
     },
     "execution_count": 24,
     "metadata": {},
     "output_type": "execute_result"
    }
   ],
   "source": [
    "%%sql\n",
    "SELECT COUNT(*) as cuenta_total\n",
    "FROM productos\n",
    "WHERE año_fabricacion > 2018"
   ]
  },
  {
   "cell_type": "markdown",
   "metadata": {},
   "source": [
    "La consulta anterior se comporta igual que esta: "
   ]
  },
  {
   "cell_type": "code",
   "execution_count": 25,
   "metadata": {},
   "outputs": [
    {
     "name": "stdout",
     "output_type": "stream",
     "text": [
      " * sqlite:///bdd_sql2.db\n",
      "Done.\n"
     ]
    },
    {
     "data": {
      "text/html": [
       "<table>\n",
       "    <tr>\n",
       "        <th>cuenta_total</th>\n",
       "    </tr>\n",
       "    <tr>\n",
       "        <td>3</td>\n",
       "    </tr>\n",
       "</table>"
      ],
      "text/plain": [
       "[(3,)]"
      ]
     },
     "execution_count": 25,
     "metadata": {},
     "output_type": "execute_result"
    }
   ],
   "source": [
    "%%sql\n",
    "SELECT COUNT(fabricante) as cuenta_total\n",
    "FROM productos\n",
    "WHERE año_fabricacion > 2018"
   ]
  },
  {
   "cell_type": "markdown",
   "metadata": {},
   "source": [
    "### GROUP BY\n",
    "Contaremos los prouctos de cada fabricante, utilizando el operador __GROUP BY__"
   ]
  },
  {
   "cell_type": "code",
   "execution_count": 26,
   "metadata": {},
   "outputs": [
    {
     "name": "stdout",
     "output_type": "stream",
     "text": [
      " * sqlite:///bdd_sql2.db\n",
      "Done.\n"
     ]
    },
    {
     "data": {
      "text/html": [
       "<table>\n",
       "    <tr>\n",
       "        <th>fabricante</th>\n",
       "        <th>COUNT(fabricante)</th>\n",
       "    </tr>\n",
       "    <tr>\n",
       "        <td>Colún</td>\n",
       "        <td>1</td>\n",
       "    </tr>\n",
       "    <tr>\n",
       "        <td>Nestlé</td>\n",
       "        <td>2</td>\n",
       "    </tr>\n",
       "</table>"
      ],
      "text/plain": [
       "[('Colún', 1), ('Nestlé', 2)]"
      ]
     },
     "execution_count": 26,
     "metadata": {},
     "output_type": "execute_result"
    }
   ],
   "source": [
    "%%sql \n",
    "SELECT fabricante, COUNT(fabricante)\n",
    "FROM productos\n",
    "WHERE año_fabricacion > 2018\n",
    "GROUP BY fabricante"
   ]
  },
  {
   "cell_type": "markdown",
   "metadata": {},
   "source": [
    "Esta consulta:\n",
    "    - Computa los resultados según el FROM y el WHERE \n",
    "    - Agrupa los resultados según los atributos del GROUP BY \n",
    "    - Para cada grupo se aplica inependientemente la agregación \n",
    "Otro ejemplo:"
   ]
  },
  {
   "cell_type": "code",
   "execution_count": 27,
   "metadata": {},
   "outputs": [
    {
     "name": "stdout",
     "output_type": "stream",
     "text": [
      " * sqlite:///bdd_sql2.db\n",
      "Done.\n",
      " * sqlite:///bdd_sql2.db\n",
      "Done.\n",
      " * sqlite:///bdd_sql2.db\n",
      "1 rows affected.\n",
      " * sqlite:///bdd_sql2.db\n",
      "1 rows affected.\n",
      " * sqlite:///bdd_sql2.db\n",
      "1 rows affected.\n",
      " * sqlite:///bdd_sql2.db\n",
      "1 rows affected.\n",
      " * sqlite:///bdd_sql2.db\n",
      "1 rows affected.\n",
      " * sqlite:///bdd_sql2.db\n",
      "Done.\n"
     ]
    },
    {
     "data": {
      "text/html": [
       "<table>\n",
       "    <tr>\n",
       "        <th>producto</th>\n",
       "        <th>fecha</th>\n",
       "        <th>precio</th>\n",
       "        <th>cantidad</th>\n",
       "    </tr>\n",
       "    <tr>\n",
       "        <td>tomates</td>\n",
       "        <td>2018-02-07</td>\n",
       "        <td>100</td>\n",
       "        <td>6</td>\n",
       "    </tr>\n",
       "    <tr>\n",
       "        <td>tomates</td>\n",
       "        <td>2018-07-06</td>\n",
       "        <td>150</td>\n",
       "        <td>4</td>\n",
       "    </tr>\n",
       "    <tr>\n",
       "        <td>zapallos</td>\n",
       "        <td>2018-02-08</td>\n",
       "        <td>800</td>\n",
       "        <td>1</td>\n",
       "    </tr>\n",
       "    <tr>\n",
       "        <td>zapallos</td>\n",
       "        <td>2018-07-09</td>\n",
       "        <td>1000</td>\n",
       "        <td>2</td>\n",
       "    </tr>\n",
       "    <tr>\n",
       "        <td>zapallos</td>\n",
       "        <td>2018-01-01</td>\n",
       "        <td>600</td>\n",
       "        <td>3</td>\n",
       "    </tr>\n",
       "</table>"
      ],
      "text/plain": [
       "[('tomates', '2018-02-07', 100, 6),\n",
       " ('tomates', '2018-07-06', 150, 4),\n",
       " ('zapallos', '2018-02-08', 800, 1),\n",
       " ('zapallos', '2018-07-09', 1000, 2),\n",
       " ('zapallos', '2018-01-01', 600, 3)]"
      ]
     },
     "execution_count": 27,
     "metadata": {},
     "output_type": "execute_result"
    }
   ],
   "source": [
    "%sql DROP TABLE IF EXISTS compra\n",
    "%sql CREATE TABLE compra(producto VARCHAR(20), fecha TEXT, precio INT, cantidad INT)\n",
    "%sql INSERT INTO compra VALUES('tomates', '2018-02-07', 100, 6)\n",
    "%sql INSERT INTO compra VALUES('tomates', '2018-07-06', 150, 4)\n",
    "%sql INSERT INTO compra VALUES('zapallos', '2018-02-08', 800, 1)\n",
    "%sql INSERT INTO compra VALUES('zapallos', '2018-07-09', 1000, 2)\n",
    "%sql INSERT INTO compra VALUES('zapallos', '2018-01-01', 600, 3)\n",
    "%sql SELECT * FROM compra"
   ]
  },
  {
   "cell_type": "code",
   "execution_count": 28,
   "metadata": {},
   "outputs": [
    {
     "name": "stdout",
     "output_type": "stream",
     "text": [
      " * sqlite:///bdd_sql2.db\n",
      "Done.\n"
     ]
    },
    {
     "data": {
      "text/html": [
       "<table>\n",
       "    <tr>\n",
       "        <th>producto</th>\n",
       "        <th>ventaTotal</th>\n",
       "    </tr>\n",
       "    <tr>\n",
       "        <td>tomates</td>\n",
       "        <td>1200</td>\n",
       "    </tr>\n",
       "    <tr>\n",
       "        <td>zapallos</td>\n",
       "        <td>2800</td>\n",
       "    </tr>\n",
       "</table>"
      ],
      "text/plain": [
       "[('tomates', 1200), ('zapallos', 2800)]"
      ]
     },
     "execution_count": 28,
     "metadata": {},
     "output_type": "execute_result"
    }
   ],
   "source": [
    "%%sql\n",
    "SELECT producto, SUM(precio*cantidad) AS ventaTotal\n",
    "FROM compra \n",
    "WHERE fecha > '2018-01-10'\n",
    "GROUP BY producto"
   ]
  },
  {
   "cell_type": "markdown",
   "metadata": {},
   "source": [
    "¿Cómo funciona esto?. En primer lugar, se ejecuta el from y el where:\n",
    "\n",
    "<table>\n",
    "  <tr>\n",
    "    <th>Producto</th>\n",
    "    <th>Fecha</th> \n",
    "    <th>Precio</th>\n",
    "    <th>Cantidad</th>\n",
    "  </tr>\n",
    "  <tr>\n",
    "    <td>Tomates</td>\n",
    "    <td>07/02</td> \n",
    "    <td>100</td>\n",
    "    <td>6</td>\n",
    "  </tr>\n",
    "  <tr>\n",
    "    <td>Tomates</td>\n",
    "    <td>06/07</td> \n",
    "    <td>150</td>\n",
    "    <td>4</td>\n",
    "  </tr>\n",
    "  <tr>\n",
    "    <td>Zapallo</td>\n",
    "    <td>08/02</td> \n",
    "    <td>800</td>\n",
    "    <td>1</td>\n",
    "  </tr>\n",
    "  <tr>\n",
    "    <td>Zapallo</td>\n",
    "    <td>09/07</td> \n",
    "    <td>1000</td>\n",
    "    <td>2</td>\n",
    "  </tr>\n",
    "</table>\n",
    "\n",
    "Luego, se agrupa según el group by:\n",
    "\n",
    "<table>\n",
    "  <tr>\n",
    "    <th>Producto</th>\n",
    "    <th>Fecha</th> \n",
    "    <th>Precio</th>\n",
    "    <th>Cantidad</th>\n",
    "  </tr>\n",
    "  <tr>\n",
    "    <td rowspan=\"2\">Tomates</td>\n",
    "    <td>07/02</td> \n",
    "    <td>100</td>\n",
    "    <td>6</td>\n",
    "  </tr>\n",
    "  <tr>\n",
    "    <td>06/07</td> \n",
    "    <td>150</td>\n",
    "    <td>4</td>\n",
    "  </tr>\n",
    "  <tr>\n",
    "    <td rowspan=\"2\">Zapallo</td>\n",
    "    <td>08/02</td> \n",
    "    <td>800</td>\n",
    "    <td>1</td>\n",
    "  </tr>\n",
    "  <tr>\n",
    "    <td>09/07</td> \n",
    "    <td>1000</td>\n",
    "    <td>2</td>\n",
    "  </tr>\n",
    "</table>\n",
    "\n",
    "Finalmente, se agrega por grupo y se ejecuta la proyección:\n",
    "\n",
    "<table>\n",
    "  <tr>\n",
    "    <th>Producto</th>\n",
    "    <th>VentaTotal</th>\n",
    "  </tr>\n",
    "  <tr>\n",
    "    <td>Tomates</td>\n",
    "    <td>1200</td>\n",
    "  </tr>\n",
    "  <tr>\n",
    "    <td>Zapallo</td>\n",
    "    <td>2800</td>\n",
    "  </tr>\n",
    "</table>\n",
    "\n",
    "### HAVING\n",
    "\n",
    "Consideremos ahora la misma consulta, pero sólo considerando aquellos productos que se vendieron más de 100 veces (Para mostrar el efecto de este operadore, agregaremos un par de filas a la tabla)"
   ]
  },
  {
   "cell_type": "code",
   "execution_count": 29,
   "metadata": {},
   "outputs": [
    {
     "name": "stdout",
     "output_type": "stream",
     "text": [
      " * sqlite:///bdd_sql2.db\n",
      "1 rows affected.\n",
      " * sqlite:///bdd_sql2.db\n",
      "1 rows affected.\n"
     ]
    },
    {
     "data": {
      "text/plain": [
       "[]"
      ]
     },
     "execution_count": 29,
     "metadata": {},
     "output_type": "execute_result"
    }
   ],
   "source": [
    "%sql INSERT INTO compra VALUES('zanahorias', '2018-07-06', 150, 125)\n",
    "%sql INSERT INTO compra VALUES('zanahorias', '2018-02-08', 800, 50)"
   ]
  },
  {
   "cell_type": "code",
   "execution_count": 30,
   "metadata": {},
   "outputs": [
    {
     "name": "stdout",
     "output_type": "stream",
     "text": [
      " * sqlite:///bdd_sql2.db\n",
      "Done.\n"
     ]
    },
    {
     "data": {
      "text/html": [
       "<table>\n",
       "    <tr>\n",
       "        <th>producto</th>\n",
       "        <th>fecha</th>\n",
       "        <th>precio</th>\n",
       "        <th>cantidad</th>\n",
       "    </tr>\n",
       "    <tr>\n",
       "        <td>tomates</td>\n",
       "        <td>2018-02-07</td>\n",
       "        <td>100</td>\n",
       "        <td>6</td>\n",
       "    </tr>\n",
       "    <tr>\n",
       "        <td>tomates</td>\n",
       "        <td>2018-07-06</td>\n",
       "        <td>150</td>\n",
       "        <td>4</td>\n",
       "    </tr>\n",
       "    <tr>\n",
       "        <td>zapallos</td>\n",
       "        <td>2018-02-08</td>\n",
       "        <td>800</td>\n",
       "        <td>1</td>\n",
       "    </tr>\n",
       "    <tr>\n",
       "        <td>zapallos</td>\n",
       "        <td>2018-07-09</td>\n",
       "        <td>1000</td>\n",
       "        <td>2</td>\n",
       "    </tr>\n",
       "    <tr>\n",
       "        <td>zapallos</td>\n",
       "        <td>2018-01-01</td>\n",
       "        <td>600</td>\n",
       "        <td>3</td>\n",
       "    </tr>\n",
       "    <tr>\n",
       "        <td>zanahorias</td>\n",
       "        <td>2018-07-06</td>\n",
       "        <td>150</td>\n",
       "        <td>125</td>\n",
       "    </tr>\n",
       "    <tr>\n",
       "        <td>zanahorias</td>\n",
       "        <td>2018-02-08</td>\n",
       "        <td>800</td>\n",
       "        <td>50</td>\n",
       "    </tr>\n",
       "</table>"
      ],
      "text/plain": [
       "[('tomates', '2018-02-07', 100, 6),\n",
       " ('tomates', '2018-07-06', 150, 4),\n",
       " ('zapallos', '2018-02-08', 800, 1),\n",
       " ('zapallos', '2018-07-09', 1000, 2),\n",
       " ('zapallos', '2018-01-01', 600, 3),\n",
       " ('zanahorias', '2018-07-06', 150, 125),\n",
       " ('zanahorias', '2018-02-08', 800, 50)]"
      ]
     },
     "execution_count": 30,
     "metadata": {},
     "output_type": "execute_result"
    }
   ],
   "source": [
    "%sql SELECT * FROM compra"
   ]
  },
  {
   "cell_type": "code",
   "execution_count": 31,
   "metadata": {},
   "outputs": [
    {
     "name": "stdout",
     "output_type": "stream",
     "text": [
      " * sqlite:///bdd_sql2.db\n",
      "Done.\n"
     ]
    },
    {
     "data": {
      "text/html": [
       "<table>\n",
       "    <tr>\n",
       "        <th>producto</th>\n",
       "        <th>ventaTotal</th>\n",
       "        <th>sum(cantidad)</th>\n",
       "    </tr>\n",
       "    <tr>\n",
       "        <td>zanahorias</td>\n",
       "        <td>58750</td>\n",
       "        <td>175</td>\n",
       "    </tr>\n",
       "</table>"
      ],
      "text/plain": [
       "[('zanahorias', 58750, 175)]"
      ]
     },
     "execution_count": 31,
     "metadata": {},
     "output_type": "execute_result"
    }
   ],
   "source": [
    "%%sql\n",
    "SELECT producto, SUM(precio*cantidad) AS ventaTotal, sum(cantidad)\n",
    "FROM compra \n",
    "WHERE fecha > '2018-01-10'\n",
    "GROUP BY producto\n",
    "HAVING sum(cantidad) > 100"
   ]
  },
  {
   "cell_type": "markdown",
   "metadata": {},
   "source": [
    "¿Por qué usamos `HAVING` y no lo incluimos en el `WHERE`?\n",
    "\n",
    "### Consultas con agregación\n",
    "\n",
    "```SQL\n",
    "SELECT <S>\n",
    "FROM R_1, ..., R_N\n",
    "WHERE <Condición 1>\n",
    "GROUP BY a_1, ..., a_k\n",
    "HAVING <Condición 2>\n",
    "```\n",
    "\n",
    "- $S$ puede contener atributos $a_1, ..., a_k$ y/o agregados, pero ningún otro atributo (¿Por qué?)\n",
    "- _Condición 1_ es una condición que usa atributos $R_1, ..., R_n$\n",
    "- _Condición 2_ es una condición de agregación de los atributos $R_1, ..., R_n$\n",
    "\n",
    "#### ¿Cómo se evalúan este tipo de consultas?\n",
    "\n",
    "1. Se computa el `FROM` - `WHERE` de $R_1, ..., R_n$\n",
    "2. Se agrupa la tabla por los atributos de $a_1, ..., a_k$\n",
    "3. Se computan los agregados de la _Condición 2_ y se mantienen los grupos que la satisfacen\n",
    "4. Se computan los agregados de $S$ y se entrega el resultado.\n",
    "\n",
    "Armemos un ejemplo:"
   ]
  },
  {
   "cell_type": "code",
   "execution_count": 32,
   "metadata": {},
   "outputs": [
    {
     "name": "stdout",
     "output_type": "stream",
     "text": [
      " * sqlite:///bdd_sql2.db\n",
      "Done.\n",
      " * sqlite:///bdd_sql2.db\n",
      "Done.\n",
      " * sqlite:///bdd_sql2.db\n",
      "Done.\n",
      " * sqlite:///bdd_sql2.db\n",
      "Done.\n",
      " * sqlite:///bdd_sql2.db\n",
      "Done.\n",
      " * sqlite:///bdd_sql2.db\n",
      "Done.\n",
      " * sqlite:///bdd_sql2.db\n",
      "Done.\n",
      " * sqlite:///bdd_sql2.db\n",
      "Done.\n",
      " * sqlite:///bdd_sql2.db\n",
      "1 rows affected.\n",
      " * sqlite:///bdd_sql2.db\n",
      "1 rows affected.\n",
      " * sqlite:///bdd_sql2.db\n",
      "1 rows affected.\n",
      " * sqlite:///bdd_sql2.db\n",
      "1 rows affected.\n",
      " * sqlite:///bdd_sql2.db\n",
      "1 rows affected.\n",
      " * sqlite:///bdd_sql2.db\n",
      "1 rows affected.\n",
      " * sqlite:///bdd_sql2.db\n",
      "1 rows affected.\n",
      " * sqlite:///bdd_sql2.db\n",
      "1 rows affected.\n",
      " * sqlite:///bdd_sql2.db\n",
      "1 rows affected.\n",
      " * sqlite:///bdd_sql2.db\n",
      "1 rows affected.\n",
      " * sqlite:///bdd_sql2.db\n",
      "1 rows affected.\n",
      " * sqlite:///bdd_sql2.db\n",
      "1 rows affected.\n",
      " * sqlite:///bdd_sql2.db\n",
      "1 rows affected.\n",
      " * sqlite:///bdd_sql2.db\n",
      "1 rows affected.\n",
      " * sqlite:///bdd_sql2.db\n",
      "1 rows affected.\n",
      " * sqlite:///bdd_sql2.db\n",
      "1 rows affected.\n",
      " * sqlite:///bdd_sql2.db\n",
      "1 rows affected.\n",
      " * sqlite:///bdd_sql2.db\n",
      "1 rows affected.\n",
      " * sqlite:///bdd_sql2.db\n",
      "1 rows affected.\n",
      " * sqlite:///bdd_sql2.db\n",
      "1 rows affected.\n",
      " * sqlite:///bdd_sql2.db\n",
      "1 rows affected.\n"
     ]
    },
    {
     "data": {
      "text/plain": [
       "[]"
      ]
     },
     "execution_count": 32,
     "metadata": {},
     "output_type": "execute_result"
    }
   ],
   "source": [
    "%sql DROP TABLE IF EXISTS Autor\n",
    "%sql DROP TABLE IF EXISTS Documento\n",
    "%sql DROP TABLE IF EXISTS Escribe\n",
    "%sql DROP TABLE IF EXISTS Menciona\n",
    "\n",
    "%sql CREATE TABLE Autor(login INT, nombre VARCHAR(20))\n",
    "%sql CREATE TABLE Documento(id_doc VARCHAR(30), titulo VARCHAR(20))\n",
    "%sql CREATE TABLE Escribe(login INT, id_doc VARCHAR(30))\n",
    "%sql CREATE TABLE Menciona(id_doc VARCHAR(30), palabra VARCHAR(20))\n",
    "\n",
    "%sql INSERT INTO Autor VALUES(0, 'Marcela Paz')\n",
    "%sql INSERT INTO Autor VALUES(1, 'Pablo Neruda')\n",
    "%sql INSERT INTO Autor VALUES(2, 'Gabriela Mistral')\n",
    "%sql INSERT INTO Documento VALUES(0, 'Papelucho')\n",
    "%sql INSERT INTO Documento VALUES(1, 'Papelucho en la clínica')\n",
    "%sql INSERT INTO Documento VALUES(2, 'Papelucho detective')\n",
    "%sql INSERT INTO Documento VALUES(3, 'Papelucho perdido')\n",
    "%sql INSERT INTO Escribe VALUES(0,0)\n",
    "%sql INSERT INTO Escribe VALUES(0,1)\n",
    "%sql INSERT INTO Escribe VALUES(0,2)\n",
    "%sql INSERT INTO Escribe VALUES(0,3)\n",
    "%sql INSERT INTO Documento VALUES(4, 'Cien Sonetos de Amor')\n",
    "%sql INSERT INTO Documento VALUES(5, 'Confieso que he vivido')\n",
    "%sql INSERT INTO Escribe VALUES(1,4)\n",
    "%sql INSERT INTO Escribe VALUES(1,5)\n",
    "%sql INSERT INTO Documento VALUES(6, 'Locas Mujeres')\n",
    "%sql INSERT INTO Documento VALUES(7, 'Poemas')\n",
    "%sql INSERT INTO Documento VALUES(8, 'Desolación')\n",
    "%sql INSERT INTO Escribe VALUES(2,6)\n",
    "%sql INSERT INTO Escribe VALUES(2,7)\n",
    "%sql INSERT INTO Escribe VALUES(2,8)\n"
   ]
  },
  {
   "cell_type": "markdown",
   "metadata": {},
   "source": [
    "Encontremos a todos los autores que escribieron al menos 3 documentos:"
   ]
  },
  {
   "cell_type": "code",
   "execution_count": 33,
   "metadata": {},
   "outputs": [
    {
     "name": "stdout",
     "output_type": "stream",
     "text": [
      " * sqlite:///bdd_sql2.db\n",
      "Done.\n"
     ]
    },
    {
     "data": {
      "text/html": [
       "<table>\n",
       "    <tr>\n",
       "        <th>login</th>\n",
       "        <th>countAutor</th>\n",
       "    </tr>\n",
       "    <tr>\n",
       "        <td>0</td>\n",
       "        <td>4</td>\n",
       "    </tr>\n",
       "    <tr>\n",
       "        <td>2</td>\n",
       "        <td>3</td>\n",
       "    </tr>\n",
       "</table>"
      ],
      "text/plain": [
       "[(0, 4), (2, 3)]"
      ]
     },
     "execution_count": 33,
     "metadata": {},
     "output_type": "execute_result"
    }
   ],
   "source": [
    "%%sql\n",
    "SELECT DISTINCT *\n",
    "FROM (SELECT Autor.login, COUNT(*) as countAutor\n",
    "      FROM Escribe, Autor\n",
    "      WHERE Escribe.login = Autor.login\n",
    "      GROUP BY Autor.login) AS Foo\n",
    "WHERE countAutor >= 3"
   ]
  },
  {
   "cell_type": "markdown",
   "metadata": {},
   "source": [
    "¡La respuesta puede mejorar! Estamos haciendo una anidación innecesaria.\n",
    "\n",
    "__Obs:__ El uso del alias (en este caso: Foo) en el FROM es necesario para el uso de subconsultas\n",
    "\n",
    "Veamos una versión más elegante:"
   ]
  },
  {
   "cell_type": "code",
   "execution_count": 34,
   "metadata": {},
   "outputs": [
    {
     "name": "stdout",
     "output_type": "stream",
     "text": [
      " * sqlite:///bdd_sql2.db\n",
      "Done.\n"
     ]
    },
    {
     "data": {
      "text/html": [
       "<table>\n",
       "    <tr>\n",
       "        <th>nombre</th>\n",
       "    </tr>\n",
       "    <tr>\n",
       "        <td>Gabriela Mistral</td>\n",
       "    </tr>\n",
       "    <tr>\n",
       "        <td>Marcela Paz</td>\n",
       "    </tr>\n",
       "</table>"
      ],
      "text/plain": [
       "[('Gabriela Mistral',), ('Marcela Paz',)]"
      ]
     },
     "execution_count": 34,
     "metadata": {},
     "output_type": "execute_result"
    }
   ],
   "source": [
    "%%sql\n",
    "SELECT Autor.nombre\n",
    "FROM Autor, Escribe\n",
    "WHERE Autor.login = Escribe.login\n",
    "GROUP BY Autor.nombre\n",
    "HAVING COUNT(Escribe.id_doc) >= 3"
   ]
  },
  {
   "cell_type": "markdown",
   "metadata": {},
   "source": [
    "__NOTA:__ No necesitamos __DISTINCT__ gracias al GROUP BY :D \n",
    "\n",
    "Otro ejemplo: Encontrar a todos los autores con un vocabulario de más de 10000 palabras. "
   ]
  },
  {
   "cell_type": "markdown",
   "metadata": {},
   "source": [
    "```SQL\n",
    "SELECT Autor.nombre\n",
    "FROM Autor, Escribe, Menciona\n",
    "WHERE Autor.login = Escribe.login AND Escribe.id_doc = Menciona.id_doc\n",
    "GROUP BY Autor.nombre\n",
    "HAVING COUNT(DISTINCT Menciona.palabra ) >= 10000\n",
    "```"
   ]
  },
  {
   "cell_type": "markdown",
   "metadata": {},
   "source": [
    "### INSERT\n",
    "Para insertar valores usamos:\n",
    "\n",
    "```SQL\n",
    "INSERT INTO R\n",
    "VALUES <Valores>\n",
    "```\n",
    "\n",
    "Tambinén podemos insertar valores de otra consulta. Por ejemplo, imaginemos que tenemos una lista con la programación del día de hoy, y una lista de series:\n"
   ]
  },
  {
   "cell_type": "code",
   "execution_count": 35,
   "metadata": {},
   "outputs": [
    {
     "name": "stdout",
     "output_type": "stream",
     "text": [
      " * sqlite:///bdd_sql2.db\n",
      "Done.\n",
      " * sqlite:///bdd_sql2.db\n",
      "Done.\n",
      " * sqlite:///bdd_sql2.db\n",
      "Done.\n",
      " * sqlite:///bdd_sql2.db\n",
      "Done.\n",
      " * sqlite:///bdd_sql2.db\n",
      "1 rows affected.\n",
      " * sqlite:///bdd_sql2.db\n",
      "1 rows affected.\n",
      " * sqlite:///bdd_sql2.db\n",
      "1 rows affected.\n",
      " * sqlite:///bdd_sql2.db\n",
      "1 rows affected.\n",
      " * sqlite:///bdd_sql2.db\n",
      "1 rows affected.\n",
      " * sqlite:///bdd_sql2.db\n",
      "Done.\n"
     ]
    },
    {
     "data": {
      "text/html": [
       "<table>\n",
       "    <tr>\n",
       "        <th>titulo</th>\n",
       "    </tr>\n",
       "    <tr>\n",
       "        <td>Juego de Tronos</td>\n",
       "    </tr>\n",
       "    <tr>\n",
       "        <td>Hora de Aventura</td>\n",
       "    </tr>\n",
       "</table>"
      ],
      "text/plain": [
       "[('Juego de Tronos',), ('Hora de Aventura',)]"
      ]
     },
     "execution_count": 35,
     "metadata": {},
     "output_type": "execute_result"
    }
   ],
   "source": [
    "%sql DROP TABLE IF EXISTS Programacion\n",
    "%sql DROP TABLE IF EXISTS Series\n",
    "\n",
    "%sql CREATE TABLE Programacion(titulo VARCHAR(20), hora TXT, duracion_min INT)\n",
    "%sql CREATE TABLE Series(titulo)\n",
    "\n",
    "%sql INSERT INTO Programacion VALUES('Hora de Aventura', '22:00', 15)\n",
    "%sql INSERT INTO Programacion VALUES('Shingeki No Kyojin', '22:20', 24)\n",
    "%sql INSERT INTO Programacion VALUES('Juego de Tronos', '22:50', 40)\n",
    "%sql INSERT INTO Series VALUES('Juego de Tronos')\n",
    "%sql INSERT INTO Series VALUES('Hora de Aventura')\n",
    "%sql SELECT * FROM Series\n"
   ]
  },
  {
   "cell_type": "code",
   "execution_count": 36,
   "metadata": {},
   "outputs": [
    {
     "name": "stdout",
     "output_type": "stream",
     "text": [
      " * sqlite:///bdd_sql2.db\n",
      "Done.\n"
     ]
    },
    {
     "data": {
      "text/html": [
       "<table>\n",
       "    <tr>\n",
       "        <th>titulo</th>\n",
       "        <th>hora</th>\n",
       "        <th>duracion_min</th>\n",
       "    </tr>\n",
       "    <tr>\n",
       "        <td>Hora de Aventura</td>\n",
       "        <td>22:00</td>\n",
       "        <td>15</td>\n",
       "    </tr>\n",
       "    <tr>\n",
       "        <td>Shingeki No Kyojin</td>\n",
       "        <td>22:20</td>\n",
       "        <td>24</td>\n",
       "    </tr>\n",
       "    <tr>\n",
       "        <td>Juego de Tronos</td>\n",
       "        <td>22:50</td>\n",
       "        <td>40</td>\n",
       "    </tr>\n",
       "</table>"
      ],
      "text/plain": [
       "[('Hora de Aventura', '22:00', 15),\n",
       " ('Shingeki No Kyojin', '22:20', 24),\n",
       " ('Juego de Tronos', '22:50', 40)]"
      ]
     },
     "execution_count": 36,
     "metadata": {},
     "output_type": "execute_result"
    }
   ],
   "source": [
    "%sql SELECT * FROM Programacion"
   ]
  },
  {
   "cell_type": "code",
   "execution_count": 37,
   "metadata": {},
   "outputs": [
    {
     "name": "stdout",
     "output_type": "stream",
     "text": [
      " * sqlite:///bdd_sql2.db\n",
      "Done.\n"
     ]
    },
    {
     "data": {
      "text/html": [
       "<table>\n",
       "    <tr>\n",
       "        <th>titulo</th>\n",
       "    </tr>\n",
       "    <tr>\n",
       "        <td>Shingeki No Kyojin</td>\n",
       "    </tr>\n",
       "</table>"
      ],
      "text/plain": [
       "[('Shingeki No Kyojin',)]"
      ]
     },
     "execution_count": 37,
     "metadata": {},
     "output_type": "execute_result"
    }
   ],
   "source": [
    "%%sql \n",
    "SELECT DISTINCT titulo\n",
    "FROM Programacion\n",
    "WHERE Programacion.titulo NOT IN (SELECT titulo FROM Series)\n",
    "        "
   ]
  },
  {
   "cell_type": "markdown",
   "metadata": {},
   "source": [
    "La consulta anterior nos arroja el resultado que nos interesaría insertar en la lista de series, luego:"
   ]
  },
  {
   "cell_type": "code",
   "execution_count": 38,
   "metadata": {},
   "outputs": [
    {
     "name": "stdout",
     "output_type": "stream",
     "text": [
      " * sqlite:///bdd_sql2.db\n",
      "1 rows affected.\n"
     ]
    },
    {
     "data": {
      "text/plain": [
       "[]"
      ]
     },
     "execution_count": 38,
     "metadata": {},
     "output_type": "execute_result"
    }
   ],
   "source": [
    "%%sql \n",
    "INSERT INTO Series SELECT DISTINCT titulo\n",
    "                          FROM Programacion\n",
    "                          WHERE Programacion.titulo NOT IN (SELECT titulo FROM Series)"
   ]
  },
  {
   "cell_type": "code",
   "execution_count": 39,
   "metadata": {},
   "outputs": [
    {
     "name": "stdout",
     "output_type": "stream",
     "text": [
      " * sqlite:///bdd_sql2.db\n",
      "Done.\n"
     ]
    },
    {
     "data": {
      "text/html": [
       "<table>\n",
       "    <tr>\n",
       "        <th>titulo</th>\n",
       "    </tr>\n",
       "    <tr>\n",
       "        <td>Juego de Tronos</td>\n",
       "    </tr>\n",
       "    <tr>\n",
       "        <td>Hora de Aventura</td>\n",
       "    </tr>\n",
       "    <tr>\n",
       "        <td>Shingeki No Kyojin</td>\n",
       "    </tr>\n",
       "</table>"
      ],
      "text/plain": [
       "[('Juego de Tronos',), ('Hora de Aventura',), ('Shingeki No Kyojin',)]"
      ]
     },
     "execution_count": 39,
     "metadata": {},
     "output_type": "execute_result"
    }
   ],
   "source": [
    "%sql SELECT * FROM Series"
   ]
  },
  {
   "cell_type": "markdown",
   "metadata": {},
   "source": [
    "Estamos insertando sólo el título ¿Qué pasa con los demás valores?\n",
    "\n",
    "### UPDATE\n",
    "Para actualizar valores de una tabla usamos:\n",
    "\n",
    "```SQL\n",
    "UPDATE R\n",
    "SET <Nuevos valores>\n",
    "WHERE <Condición sobre R>\n",
    "```\n",
    "\n",
    "Donde: \n",
    "\n",
    "```\n",
    "<Nuevos valores> := (atributo_1 = nuevoValor_1, ..., atributo_n = nuevoValor_n)\n",
    "```\n",
    "\n",
    "Por ejemplo, consideremos la siguiente relacion:\n"
   ]
  },
  {
   "cell_type": "code",
   "execution_count": 40,
   "metadata": {},
   "outputs": [
    {
     "name": "stdout",
     "output_type": "stream",
     "text": [
      " * sqlite:///bdd_sql2.db\n",
      "Done.\n",
      " * sqlite:///bdd_sql2.db\n",
      "Done.\n",
      " * sqlite:///bdd_sql2.db\n",
      "1 rows affected.\n",
      " * sqlite:///bdd_sql2.db\n",
      "1 rows affected.\n",
      " * sqlite:///bdd_sql2.db\n",
      "1 rows affected.\n",
      " * sqlite:///bdd_sql2.db\n",
      "Done.\n"
     ]
    },
    {
     "data": {
      "text/html": [
       "<table>\n",
       "    <tr>\n",
       "        <th>nombre</th>\n",
       "        <th>apellido</th>\n",
       "        <th>rut</th>\n",
       "    </tr>\n",
       "    <tr>\n",
       "        <td>John</td>\n",
       "        <td>Lennon</td>\n",
       "        <td>12333222K</td>\n",
       "    </tr>\n",
       "    <tr>\n",
       "        <td>Paul</td>\n",
       "        <td>McCartney</td>\n",
       "        <td>422235554</td>\n",
       "    </tr>\n",
       "    <tr>\n",
       "        <td>Richard</td>\n",
       "        <td>Starkey</td>\n",
       "        <td>22222222K</td>\n",
       "    </tr>\n",
       "</table>"
      ],
      "text/plain": [
       "[('John', 'Lennon', '12333222K'),\n",
       " ('Paul', 'McCartney', '422235554'),\n",
       " ('Richard', 'Starkey', '22222222K')]"
      ]
     },
     "execution_count": 40,
     "metadata": {},
     "output_type": "execute_result"
    }
   ],
   "source": [
    "%sql DROP TABLE IF EXISTS Estudiantes \n",
    "%sql CREATE TABLE Estudiantes(nombre VARCHAR(20), apellido VARCHAR(20), rut VARCHAR(20))\n",
    "%sql INSERT INTO Estudiantes VALUES('John','Lennon', '12333222K')\n",
    "%sql INSERT INTO Estudiantes VALUES('Paul','McCartney', '422235554')\n",
    "%sql INSERT INTO Estudiantes VALUES('Richard','Starkey', '22222222K')\n",
    "%sql SELECT * FROM Estudiantes\n"
   ]
  },
  {
   "cell_type": "code",
   "execution_count": 41,
   "metadata": {},
   "outputs": [
    {
     "name": "stdout",
     "output_type": "stream",
     "text": [
      " * sqlite:///bdd_sql2.db\n",
      "2 rows affected.\n"
     ]
    },
    {
     "data": {
      "text/plain": [
       "[]"
      ]
     },
     "execution_count": 41,
     "metadata": {},
     "output_type": "execute_result"
    }
   ],
   "source": [
    "%%sql\n",
    "UPDATE Estudiantes \n",
    "SET nombre = 'apellido' || 'nombre'\n",
    "WHERE rut LIKE '%K%'\n"
   ]
  },
  {
   "cell_type": "code",
   "execution_count": 42,
   "metadata": {},
   "outputs": [
    {
     "name": "stdout",
     "output_type": "stream",
     "text": [
      " * sqlite:///bdd_sql2.db\n",
      "Done.\n"
     ]
    },
    {
     "data": {
      "text/html": [
       "<table>\n",
       "    <tr>\n",
       "        <th>nombre</th>\n",
       "        <th>apellido</th>\n",
       "        <th>rut</th>\n",
       "    </tr>\n",
       "    <tr>\n",
       "        <td>apellidonombre</td>\n",
       "        <td>Lennon</td>\n",
       "        <td>12333222K</td>\n",
       "    </tr>\n",
       "    <tr>\n",
       "        <td>Paul</td>\n",
       "        <td>McCartney</td>\n",
       "        <td>422235554</td>\n",
       "    </tr>\n",
       "    <tr>\n",
       "        <td>apellidonombre</td>\n",
       "        <td>Starkey</td>\n",
       "        <td>22222222K</td>\n",
       "    </tr>\n",
       "</table>"
      ],
      "text/plain": [
       "[('apellidonombre', 'Lennon', '12333222K'),\n",
       " ('Paul', 'McCartney', '422235554'),\n",
       " ('apellidonombre', 'Starkey', '22222222K')]"
      ]
     },
     "execution_count": 42,
     "metadata": {},
     "output_type": "execute_result"
    }
   ],
   "source": [
    "%sql SELECT * FROM Estudiantes"
   ]
  },
  {
   "cell_type": "markdown",
   "metadata": {},
   "source": [
    "Otro operador que podemos usar es:"
   ]
  },
  {
   "cell_type": "markdown",
   "metadata": {},
   "source": [
    "```SQL\n",
    "ALTER TABLE Estudiantes DROP apellido\n",
    "```"
   ]
  },
  {
   "cell_type": "markdown",
   "metadata": {},
   "source": [
    "### DELETE\n",
    "Para borrar tuplas que satisfagan una condición, usamos: \n",
    "\n",
    "```DELETE FROM R\n",
    " WHERE <Condición sobre R>```\n",
    "\n",
    "Por ejemplo:"
   ]
  },
  {
   "cell_type": "code",
   "execution_count": 43,
   "metadata": {},
   "outputs": [
    {
     "name": "stdout",
     "output_type": "stream",
     "text": [
      " * sqlite:///bdd_sql2.db\n",
      "2 rows affected.\n",
      " * sqlite:///bdd_sql2.db\n",
      "Done.\n"
     ]
    },
    {
     "data": {
      "text/html": [
       "<table>\n",
       "    <tr>\n",
       "        <th>nombre</th>\n",
       "        <th>apellido</th>\n",
       "        <th>rut</th>\n",
       "    </tr>\n",
       "    <tr>\n",
       "        <td>Paul</td>\n",
       "        <td>McCartney</td>\n",
       "        <td>422235554</td>\n",
       "    </tr>\n",
       "</table>"
      ],
      "text/plain": [
       "[('Paul', 'McCartney', '422235554')]"
      ]
     },
     "execution_count": 43,
     "metadata": {},
     "output_type": "execute_result"
    }
   ],
   "source": [
    "%sql DELETE FROM Estudiantes WHERE Rut LIKE '%K%'\n",
    "%sql SELECT * FROM Estudiantes "
   ]
  },
  {
   "cell_type": "markdown",
   "metadata": {},
   "source": [
    "Para borrar todo: "
   ]
  },
  {
   "cell_type": "code",
   "execution_count": 44,
   "metadata": {},
   "outputs": [
    {
     "name": "stdout",
     "output_type": "stream",
     "text": [
      " * sqlite:///bdd_sql2.db\n",
      "1 rows affected.\n",
      " * sqlite:///bdd_sql2.db\n",
      "Done.\n"
     ]
    },
    {
     "data": {
      "text/html": [
       "<table>\n",
       "    <tr>\n",
       "        <th>nombre</th>\n",
       "        <th>apellido</th>\n",
       "        <th>rut</th>\n",
       "    </tr>\n",
       "</table>"
      ],
      "text/plain": [
       "[]"
      ]
     },
     "execution_count": 44,
     "metadata": {},
     "output_type": "execute_result"
    }
   ],
   "source": [
    "%sql DELETE FROM Estudiantes \n",
    "%sql SELECT * FROM Estudiantes"
   ]
  },
  {
   "cell_type": "code",
   "execution_count": null,
   "metadata": {},
   "outputs": [],
   "source": []
  }
 ],
 "metadata": {
  "kernelspec": {
   "display_name": "Python 3",
   "language": "python",
   "name": "python3"
  },
  "language_info": {
   "codemirror_mode": {
    "name": "ipython",
    "version": 3
   },
   "file_extension": ".py",
   "mimetype": "text/x-python",
   "name": "python",
   "nbconvert_exporter": "python",
   "pygments_lexer": "ipython3",
   "version": "3.7.7"
  }
 },
 "nbformat": 4,
 "nbformat_minor": 2
}
